{
 "cells": [
  {
   "cell_type": "code",
   "execution_count": 1,
   "id": "3327cbe6",
   "metadata": {},
   "outputs": [],
   "source": [
    "from joblib import load\n",
    "import numpy as np\n",
    "import pandas as pd\n",
    "import re"
   ]
  },
  {
   "cell_type": "code",
   "execution_count": 2,
   "id": "7092ece4",
   "metadata": {},
   "outputs": [],
   "source": [
    "def predict(data):\n",
    "    encoder = load('encoder.joblib')\n",
    "    scaler = load('scaler.joblib')\n",
    "    etree = load('etree.joblib')\n",
    "    \n",
    "    cat_columns=['name','fuel','seller_type','owner']\n",
    "    data[cat_columns]= encoder.transform(data[cat_columns])\n",
    "    \n",
    "    num_columns=['km_driven','mileage','engine','max_power','torque_NM','torque_rpm']\n",
    "    data[num_columns]= scaler.transform(data[num_columns])\n",
    "    \n",
    "    return etree.predict(data)"
   ]
  },
  {
   "cell_type": "markdown",
   "id": "d00aad57",
   "metadata": {},
   "source": [
    "#### Testing the model with pywebio"
   ]
  },
  {
   "cell_type": "code",
   "execution_count": 3,
   "id": "46ed5f76",
   "metadata": {},
   "outputs": [],
   "source": [
    "from pywebio.input import input,TEXT,radio,select,FLOAT,NUMBER\n",
    "from pywebio.output import put_text"
   ]
  },
  {
   "cell_type": "code",
   "execution_count": 4,
   "id": "41fc335a",
   "metadata": {},
   "outputs": [],
   "source": [
    "def validate_date(d):\n",
    "    if d>2021 and d<1990:\n",
    "        return 'Enter valid year'"
   ]
  },
  {
   "cell_type": "code",
   "execution_count": 5,
   "id": "1adc17fc",
   "metadata": {},
   "outputs": [],
   "source": [
    "seat_no = [2,4,5,6,7,8,9,10,14]\n",
    "data = pd.DataFrame()"
   ]
  },
  {
   "cell_type": "code",
   "execution_count": 6,
   "id": "a04ae355",
   "metadata": {},
   "outputs": [],
   "source": [
    "def predict_review():\n",
    "    \n",
    "    name = input(\"Enter the name of the Car：\", type = TEXT)\n",
    "    name = name.split(' ')[0]\n",
    "    data['name'] = [name]\n",
    "    \n",
    "    year  = input(\"Enter the Year of purchase of the Car：\", type = NUMBER, validate = validate_date)\n",
    "    year = 2021 - year\n",
    "    year = year / 2021\n",
    "    data['year'] = year \n",
    "    \n",
    "    km  = input(\"Enter the kilometer driven for the Car：\", type = NUMBER)\n",
    "    data['km_driven'] = km\n",
    "    \n",
    "    fuel_type = radio(\"Select the fuel type for the Car：\", options = ['Diesel','Petrol','CNG','LPG'])\n",
    "    data['fuel'] = fuel_type\n",
    "    \n",
    "    seller_type = radio(\"Select the seller type for the Car：\", options = ['Individual','Dealer','Trustmark Dealer'])\n",
    "    data['seller_type'] = seller_type\n",
    "    \n",
    "    transmission = radio(\"Select the gear type for the Car：\", options = ['Manual','Automatic'])\n",
    "    \n",
    "    if transmission == 'Manual':\n",
    "        transmission = 0\n",
    "    else :\n",
    "        transmission = 1\n",
    "    \n",
    "    data['transmission'] = transmission\n",
    "    \n",
    "    owner = radio(\"Select the owner type for the Car：\", options = ['First Owner','Second Owner','Third Owner','Fourth & Above Owner','Test Drive Car'])\n",
    "    data['owner'] = owner\n",
    "    \n",
    "    mileage  = input(\"Enter the mileage of the Car (kmpl)：\", type = FLOAT)\n",
    "    data['mileage'] = mileage\n",
    "    \n",
    "    engine  = input(\"Enter the engine of the Car (CC)：\", type = NUMBER)\n",
    "    data['engine'] = engine\n",
    "    \n",
    "    max_power  = input(\"Enter the max power of the Car (bhp)：\", type = FLOAT)\n",
    "    data['max_power'] = max_power\n",
    "    \n",
    "    seats = select(\"Select the number of seats for the Car：\",seat_no)\n",
    "    data['seats'] = seats\n",
    "    \n",
    "    torque = input(\"Enter the torque for the Car：\", type = TEXT)\n",
    "    \n",
    "    def preprocess_torque(s):\n",
    "        l = re.findall(r\"\\d*\\.\\d+|\\d+\", s)\n",
    "        return ' '.join(l)\n",
    "    \n",
    "    torque = preprocess_torque(torque)\n",
    "    \n",
    "    torque_NM = float(torque.split(\" \")[0])\n",
    "    data['torque_NM'] = float(torque_NM)\n",
    "    \n",
    "    torque_rpm = float(torque.split(\" \")[1])\n",
    "    data['torque_rpm'] = float(torque_rpm)\n",
    "    \n",
    "    prediction = predict(data)\n",
    "        \n",
    "    put_text('Predicted Selling Price of the Car is :',round(prediction[0]))"
   ]
  },
  {
   "cell_type": "code",
   "execution_count": 7,
   "id": "462e4e11",
   "metadata": {},
   "outputs": [],
   "source": [
    "predict_review()"
   ]
  },
  {
   "cell_type": "code",
   "execution_count": null,
   "id": "f6a23e1e",
   "metadata": {},
   "outputs": [],
   "source": []
  }
 ],
 "metadata": {
  "kernelspec": {
   "display_name": "Python 3",
   "language": "python",
   "name": "python3"
  },
  "language_info": {
   "codemirror_mode": {
    "name": "ipython",
    "version": 3
   },
   "file_extension": ".py",
   "mimetype": "text/x-python",
   "name": "python",
   "nbconvert_exporter": "python",
   "pygments_lexer": "ipython3",
   "version": "3.7.7"
  }
 },
 "nbformat": 4,
 "nbformat_minor": 5
}
