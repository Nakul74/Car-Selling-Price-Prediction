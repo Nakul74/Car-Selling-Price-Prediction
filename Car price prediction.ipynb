{
 "cells": [
  {
   "cell_type": "code",
   "execution_count": 1,
   "metadata": {},
   "outputs": [],
   "source": [
    "import numpy as np\n",
    "import pandas as pd \n",
    "import seaborn as sns\n",
    "import matplotlib.pyplot as plt\n",
    "import re\n",
    "import warnings\n",
    "warnings.filterwarnings(\"ignore\")"
   ]
  },
  {
   "cell_type": "code",
   "execution_count": 2,
   "metadata": {},
   "outputs": [
    {
     "data": {
      "text/html": [
       "<div>\n",
       "<style scoped>\n",
       "    .dataframe tbody tr th:only-of-type {\n",
       "        vertical-align: middle;\n",
       "    }\n",
       "\n",
       "    .dataframe tbody tr th {\n",
       "        vertical-align: top;\n",
       "    }\n",
       "\n",
       "    .dataframe thead th {\n",
       "        text-align: right;\n",
       "    }\n",
       "</style>\n",
       "<table border=\"1\" class=\"dataframe\">\n",
       "  <thead>\n",
       "    <tr style=\"text-align: right;\">\n",
       "      <th></th>\n",
       "      <th>name</th>\n",
       "      <th>year</th>\n",
       "      <th>selling_price</th>\n",
       "      <th>km_driven</th>\n",
       "      <th>fuel</th>\n",
       "      <th>seller_type</th>\n",
       "      <th>transmission</th>\n",
       "      <th>owner</th>\n",
       "      <th>mileage</th>\n",
       "      <th>engine</th>\n",
       "      <th>max_power</th>\n",
       "      <th>torque</th>\n",
       "      <th>seats</th>\n",
       "    </tr>\n",
       "  </thead>\n",
       "  <tbody>\n",
       "    <tr>\n",
       "      <th>2042</th>\n",
       "      <td>Hyundai Grand i10 1.2 Kappa Sportz Dual Tone</td>\n",
       "      <td>2019</td>\n",
       "      <td>585000</td>\n",
       "      <td>8000</td>\n",
       "      <td>Petrol</td>\n",
       "      <td>Individual</td>\n",
       "      <td>Manual</td>\n",
       "      <td>First Owner</td>\n",
       "      <td>18.9 kmpl</td>\n",
       "      <td>1197 CC</td>\n",
       "      <td>81.86 bhp</td>\n",
       "      <td>113.75nm@ 4000rpm</td>\n",
       "      <td>5.0</td>\n",
       "    </tr>\n",
       "    <tr>\n",
       "      <th>1837</th>\n",
       "      <td>Tata Manza ELAN Quadrajet BS III</td>\n",
       "      <td>2011</td>\n",
       "      <td>250000</td>\n",
       "      <td>70000</td>\n",
       "      <td>Diesel</td>\n",
       "      <td>Individual</td>\n",
       "      <td>Manual</td>\n",
       "      <td>First Owner</td>\n",
       "      <td>19.0 kmpl</td>\n",
       "      <td>1248 CC</td>\n",
       "      <td>90 bhp</td>\n",
       "      <td>200Nm@ 1750-3000rpm</td>\n",
       "      <td>5.0</td>\n",
       "    </tr>\n",
       "    <tr>\n",
       "      <th>5434</th>\n",
       "      <td>Volkswagen Polo 1.5 TDI Comfortline</td>\n",
       "      <td>2014</td>\n",
       "      <td>575000</td>\n",
       "      <td>40000</td>\n",
       "      <td>Diesel</td>\n",
       "      <td>Individual</td>\n",
       "      <td>Manual</td>\n",
       "      <td>Third Owner</td>\n",
       "      <td>20.14 kmpl</td>\n",
       "      <td>1498 CC</td>\n",
       "      <td>88.8 bhp</td>\n",
       "      <td>230Nm@ 1500-2500rpm</td>\n",
       "      <td>5.0</td>\n",
       "    </tr>\n",
       "    <tr>\n",
       "      <th>7786</th>\n",
       "      <td>Renault KWID RXT</td>\n",
       "      <td>2017</td>\n",
       "      <td>350000</td>\n",
       "      <td>35000</td>\n",
       "      <td>Petrol</td>\n",
       "      <td>Individual</td>\n",
       "      <td>Manual</td>\n",
       "      <td>Second Owner</td>\n",
       "      <td>25.17 kmpl</td>\n",
       "      <td>799 CC</td>\n",
       "      <td>53.3 bhp</td>\n",
       "      <td>72Nm@ 4386rpm</td>\n",
       "      <td>5.0</td>\n",
       "    </tr>\n",
       "    <tr>\n",
       "      <th>3734</th>\n",
       "      <td>Hyundai Grand i10 1.2 Kappa Magna AT</td>\n",
       "      <td>2019</td>\n",
       "      <td>550000</td>\n",
       "      <td>15000</td>\n",
       "      <td>Petrol</td>\n",
       "      <td>Individual</td>\n",
       "      <td>Automatic</td>\n",
       "      <td>First Owner</td>\n",
       "      <td>18.9 kmpl</td>\n",
       "      <td>1197 CC</td>\n",
       "      <td>81.86 bhp</td>\n",
       "      <td>113.75nm@ 4000rpm</td>\n",
       "      <td>5.0</td>\n",
       "    </tr>\n",
       "  </tbody>\n",
       "</table>\n",
       "</div>"
      ],
      "text/plain": [
       "                                              name  year  selling_price  \\\n",
       "2042  Hyundai Grand i10 1.2 Kappa Sportz Dual Tone  2019         585000   \n",
       "1837              Tata Manza ELAN Quadrajet BS III  2011         250000   \n",
       "5434           Volkswagen Polo 1.5 TDI Comfortline  2014         575000   \n",
       "7786                              Renault KWID RXT  2017         350000   \n",
       "3734          Hyundai Grand i10 1.2 Kappa Magna AT  2019         550000   \n",
       "\n",
       "      km_driven    fuel seller_type transmission         owner     mileage  \\\n",
       "2042       8000  Petrol  Individual       Manual   First Owner   18.9 kmpl   \n",
       "1837      70000  Diesel  Individual       Manual   First Owner   19.0 kmpl   \n",
       "5434      40000  Diesel  Individual       Manual   Third Owner  20.14 kmpl   \n",
       "7786      35000  Petrol  Individual       Manual  Second Owner  25.17 kmpl   \n",
       "3734      15000  Petrol  Individual    Automatic   First Owner   18.9 kmpl   \n",
       "\n",
       "       engine  max_power               torque  seats  \n",
       "2042  1197 CC  81.86 bhp    113.75nm@ 4000rpm    5.0  \n",
       "1837  1248 CC     90 bhp  200Nm@ 1750-3000rpm    5.0  \n",
       "5434  1498 CC   88.8 bhp  230Nm@ 1500-2500rpm    5.0  \n",
       "7786   799 CC   53.3 bhp        72Nm@ 4386rpm    5.0  \n",
       "3734  1197 CC  81.86 bhp    113.75nm@ 4000rpm    5.0  "
      ]
     },
     "execution_count": 2,
     "metadata": {},
     "output_type": "execute_result"
    }
   ],
   "source": [
    "df=pd.read_csv(r\"car_data.csv\") \n",
    "df.sample(5)"
   ]
  },
  {
   "cell_type": "markdown",
   "metadata": {},
   "source": [
    "<p>More torque tends to mean a faster time: It allows the vehicle to accelerate faster, in the initial stages of movement when the car is beginning to start or pick up speed</p>\n",
    "More Torque helps in generating more BHP at lower RPMs.Hence a high torque Low RPM engine can generate same BHP as a High RPM low torque engine\n",
    "<p>The size of an engine refers to the total volume of air and fuel being pushed through the engine by the cylinders. It's measured in cubic centimetres (cc). For example, a 1,000cc engine can displace one litre (1,000 cubic centimetres) of this air-fuel mixture</p>"
   ]
  },
  {
   "cell_type": "code",
   "execution_count": 3,
   "metadata": {},
   "outputs": [
    {
     "data": {
      "text/plain": [
       "1983"
      ]
     },
     "execution_count": 3,
     "metadata": {},
     "output_type": "execute_result"
    }
   ],
   "source": [
    "df.year.min()"
   ]
  },
  {
   "cell_type": "code",
   "execution_count": 4,
   "metadata": {},
   "outputs": [
    {
     "data": {
      "text/plain": [
       "(8128, 13)"
      ]
     },
     "execution_count": 4,
     "metadata": {},
     "output_type": "execute_result"
    }
   ],
   "source": [
    "df.shape"
   ]
  },
  {
   "cell_type": "code",
   "execution_count": 5,
   "metadata": {},
   "outputs": [
    {
     "data": {
      "text/plain": [
       "Index(['name', 'year', 'selling_price', 'km_driven', 'fuel', 'seller_type',\n",
       "       'transmission', 'owner', 'mileage', 'engine', 'max_power', 'torque',\n",
       "       'seats'],\n",
       "      dtype='object')"
      ]
     },
     "execution_count": 5,
     "metadata": {},
     "output_type": "execute_result"
    }
   ],
   "source": [
    "df.columns"
   ]
  },
  {
   "cell_type": "code",
   "execution_count": 6,
   "metadata": {},
   "outputs": [
    {
     "name": "stdout",
     "output_type": "stream",
     "text": [
      "<class 'pandas.core.frame.DataFrame'>\n",
      "RangeIndex: 8128 entries, 0 to 8127\n",
      "Data columns (total 13 columns):\n",
      " #   Column         Non-Null Count  Dtype  \n",
      "---  ------         --------------  -----  \n",
      " 0   name           8128 non-null   object \n",
      " 1   year           8128 non-null   int64  \n",
      " 2   selling_price  8128 non-null   int64  \n",
      " 3   km_driven      8128 non-null   int64  \n",
      " 4   fuel           8128 non-null   object \n",
      " 5   seller_type    8128 non-null   object \n",
      " 6   transmission   8128 non-null   object \n",
      " 7   owner          8128 non-null   object \n",
      " 8   mileage        7907 non-null   object \n",
      " 9   engine         7907 non-null   object \n",
      " 10  max_power      7913 non-null   object \n",
      " 11  torque         7906 non-null   object \n",
      " 12  seats          7907 non-null   float64\n",
      "dtypes: float64(1), int64(3), object(9)\n",
      "memory usage: 825.6+ KB\n"
     ]
    }
   ],
   "source": [
    "df.info()"
   ]
  },
  {
   "cell_type": "markdown",
   "metadata": {},
   "source": [
    "<h3>Handling duplicates and missing values"
   ]
  },
  {
   "cell_type": "code",
   "execution_count": 6,
   "metadata": {},
   "outputs": [
    {
     "name": "stdout",
     "output_type": "stream",
     "text": [
      "1202\n",
      "0.14788385826771652\n"
     ]
    }
   ],
   "source": [
    "print(df.duplicated().sum())\n",
    "print(df.duplicated().sum()/df.shape[0])"
   ]
  },
  {
   "cell_type": "code",
   "execution_count": 7,
   "metadata": {},
   "outputs": [
    {
     "data": {
      "text/plain": [
       "0"
      ]
     },
     "execution_count": 7,
     "metadata": {},
     "output_type": "execute_result"
    }
   ],
   "source": [
    "df.drop_duplicates(inplace=True)\n",
    "df.duplicated().sum()"
   ]
  },
  {
   "cell_type": "code",
   "execution_count": 8,
   "metadata": {},
   "outputs": [
    {
     "data": {
      "text/plain": [
       "name             0.000000\n",
       "year             0.000000\n",
       "selling_price    0.000000\n",
       "km_driven        0.000000\n",
       "fuel             0.000000\n",
       "seller_type      0.000000\n",
       "transmission     0.000000\n",
       "owner            0.000000\n",
       "mileage          0.030032\n",
       "engine           0.030032\n",
       "max_power        0.029599\n",
       "torque           0.030176\n",
       "seats            0.030032\n",
       "dtype: float64"
      ]
     },
     "execution_count": 8,
     "metadata": {},
     "output_type": "execute_result"
    }
   ],
   "source": [
    "df.isna().sum()/df.shape[0]"
   ]
  },
  {
   "cell_type": "code",
   "execution_count": 9,
   "metadata": {},
   "outputs": [
    {
     "name": "stdout",
     "output_type": "stream",
     "text": [
      "name             0\n",
      "year             0\n",
      "selling_price    0\n",
      "km_driven        0\n",
      "fuel             0\n",
      "seller_type      0\n",
      "transmission     0\n",
      "owner            0\n",
      "mileage          0\n",
      "engine           0\n",
      "max_power        0\n",
      "torque           0\n",
      "seats            0\n",
      "dtype: int64\n",
      "***********************\n",
      "(6717, 13)\n"
     ]
    }
   ],
   "source": [
    "df.dropna(inplace=True)\n",
    "print(df.isna().sum())\n",
    "print('***********************')\n",
    "print(df.shape)"
   ]
  },
  {
   "cell_type": "code",
   "execution_count": 10,
   "metadata": {},
   "outputs": [
    {
     "data": {
      "text/html": [
       "<div>\n",
       "<style scoped>\n",
       "    .dataframe tbody tr th:only-of-type {\n",
       "        vertical-align: middle;\n",
       "    }\n",
       "\n",
       "    .dataframe tbody tr th {\n",
       "        vertical-align: top;\n",
       "    }\n",
       "\n",
       "    .dataframe thead th {\n",
       "        text-align: right;\n",
       "    }\n",
       "</style>\n",
       "<table border=\"1\" class=\"dataframe\">\n",
       "  <thead>\n",
       "    <tr style=\"text-align: right;\">\n",
       "      <th></th>\n",
       "      <th>selling_price</th>\n",
       "      <th>km_driven</th>\n",
       "      <th>seats</th>\n",
       "    </tr>\n",
       "  </thead>\n",
       "  <tbody>\n",
       "    <tr>\n",
       "      <th>count</th>\n",
       "      <td>6.717000e+03</td>\n",
       "      <td>6.717000e+03</td>\n",
       "      <td>6717.000000</td>\n",
       "    </tr>\n",
       "    <tr>\n",
       "      <th>mean</th>\n",
       "      <td>5.263860e+05</td>\n",
       "      <td>7.339834e+04</td>\n",
       "      <td>5.434271</td>\n",
       "    </tr>\n",
       "    <tr>\n",
       "      <th>std</th>\n",
       "      <td>5.235504e+05</td>\n",
       "      <td>5.870328e+04</td>\n",
       "      <td>0.983805</td>\n",
       "    </tr>\n",
       "    <tr>\n",
       "      <th>min</th>\n",
       "      <td>2.999900e+04</td>\n",
       "      <td>1.000000e+00</td>\n",
       "      <td>2.000000</td>\n",
       "    </tr>\n",
       "    <tr>\n",
       "      <th>25%</th>\n",
       "      <td>2.500000e+05</td>\n",
       "      <td>3.800000e+04</td>\n",
       "      <td>5.000000</td>\n",
       "    </tr>\n",
       "    <tr>\n",
       "      <th>50%</th>\n",
       "      <td>4.200000e+05</td>\n",
       "      <td>6.820300e+04</td>\n",
       "      <td>5.000000</td>\n",
       "    </tr>\n",
       "    <tr>\n",
       "      <th>75%</th>\n",
       "      <td>6.500000e+05</td>\n",
       "      <td>1.000000e+05</td>\n",
       "      <td>5.000000</td>\n",
       "    </tr>\n",
       "    <tr>\n",
       "      <th>max</th>\n",
       "      <td>1.000000e+07</td>\n",
       "      <td>2.360457e+06</td>\n",
       "      <td>14.000000</td>\n",
       "    </tr>\n",
       "  </tbody>\n",
       "</table>\n",
       "</div>"
      ],
      "text/plain": [
       "       selling_price     km_driven        seats\n",
       "count   6.717000e+03  6.717000e+03  6717.000000\n",
       "mean    5.263860e+05  7.339834e+04     5.434271\n",
       "std     5.235504e+05  5.870328e+04     0.983805\n",
       "min     2.999900e+04  1.000000e+00     2.000000\n",
       "25%     2.500000e+05  3.800000e+04     5.000000\n",
       "50%     4.200000e+05  6.820300e+04     5.000000\n",
       "75%     6.500000e+05  1.000000e+05     5.000000\n",
       "max     1.000000e+07  2.360457e+06    14.000000"
      ]
     },
     "execution_count": 10,
     "metadata": {},
     "output_type": "execute_result"
    }
   ],
   "source": [
    "df[['selling_price','km_driven','seats']].describe()"
   ]
  },
  {
   "cell_type": "code",
   "execution_count": 11,
   "metadata": {},
   "outputs": [
    {
     "data": {
      "text/plain": [
       "<AxesSubplot:xlabel='selling_price', ylabel='Count'>"
      ]
     },
     "execution_count": 11,
     "metadata": {},
     "output_type": "execute_result"
    },
    {
     "data": {
      "image/png": "[encoded data removed]",
      "text/plain": [
       "<Figure size 432x288 with 1 Axes>"
      ]
     },
     "metadata": {
      "needs_background": "light"
     },
     "output_type": "display_data"
    }
   ],
   "source": [
    "sns.histplot(x='selling_price',data=df)"
   ]
  },
  {
   "cell_type": "markdown",
   "metadata": {},
   "source": [
    "<h3>Analyzing categorical columns"
   ]
  },
  {
   "cell_type": "code",
   "execution_count": 12,
   "metadata": {},
   "outputs": [
    {
     "data": {
      "text/plain": [
       "Index(['name', 'year', 'selling_price', 'km_driven', 'fuel', 'seller_type',\n",
       "       'transmission', 'owner', 'mileage', 'engine', 'max_power', 'torque',\n",
       "       'seats'],\n",
       "      dtype='object')"
      ]
     },
     "execution_count": 12,
     "metadata": {},
     "output_type": "execute_result"
    }
   ],
   "source": [
    "df.columns"
   ]
  },
  {
   "cell_type": "markdown",
   "metadata": {},
   "source": [
    "<h5>Analyzing name column</h5>"
   ]
  },
  {
   "cell_type": "code",
   "execution_count": 13,
   "metadata": {},
   "outputs": [
    {
     "name": "stdout",
     "output_type": "stream",
     "text": [
      "Number of Unique name : 1982\n",
      "% of data having unique name : 29.507220485335715\n",
      "***************************************************\n",
      "Top 10 rest_type that occured most\n",
      "Maruti Swift Dzire VDI      118\n",
      "Maruti Alto 800 LXI          76\n",
      "Maruti Alto LXi              69\n",
      "Maruti Swift VDI             60\n",
      "Maruti Alto K10 VXI          47\n",
      "Hyundai EON Era Plus         44\n",
      "Maruti Wagon R VXI BS IV     43\n",
      "Maruti Alto LX               43\n",
      "Maruti Ertiga VDI            42\n",
      "Maruti Ritz VDi              40\n",
      "Name: name, dtype: int64\n"
     ]
    }
   ],
   "source": [
    "unique_name = df['name'].value_counts()\n",
    "print('Number of Unique name :', unique_name.shape[0])\n",
    "print('% of data having unique name :',unique_name.shape[0]/df.shape[0]*100)\n",
    "print('***************************************************')\n",
    "print('Top 10 rest_type that occured most')\n",
    "print(unique_name.head(10))"
   ]
  },
  {
   "cell_type": "code",
   "execution_count": 14,
   "metadata": {},
   "outputs": [
    {
     "data": {
      "image/png": "[encoded data removed]",
      "text/plain": [
       "<Figure size 1296x360 with 1 Axes>"
      ]
     },
     "metadata": {
      "needs_background": "light"
     },
     "output_type": "display_data"
    }
   ],
   "source": [
    "temp = df.groupby(['name'])['selling_price'].median().reset_index().sort_values(by='selling_price',ascending=False)\n",
    "temp.rename(columns={'selling_price':'selling_price_median'},inplace=True)\n",
    "\n",
    "plt.figure(figsize=(18,5))\n",
    "sns.boxplot(y='selling_price',x='name',data=pd.merge(temp,df,on='name'),order=temp['name'].unique().tolist()[:30])\n",
    "plt.xticks(rotation=90)\n",
    "plt.show()"
   ]
  },
  {
   "cell_type": "code",
   "execution_count": 15,
   "metadata": {},
   "outputs": [],
   "source": [
    "temp2 = df.groupby(['name'])['selling_price'].mean().reset_index().sort_values(by='selling_price',ascending=False)\n",
    "temp2.rename(columns={'selling_price':'selling_price_mean'},inplace=True)\n",
    "\n",
    "temp3 = df.groupby(['name'])['selling_price'].count().reset_index().sort_values(by='selling_price',ascending=False)\n",
    "temp3.rename(columns={'selling_price':'no_of_cars'},inplace=True)\n",
    "\n",
    "temp2 = pd.merge(temp2,temp3,on='name')\n",
    "temp = pd.merge(temp,temp2,on='name')\n",
    "\n",
    "temp3 = df.groupby(['name'])['selling_price'].max().reset_index().sort_values(by='selling_price',ascending=False)\n",
    "temp3.rename(columns={'selling_price':'max_selling_price'},inplace=True)\n",
    "\n",
    "temp2 = df.groupby(['name'])['selling_price'].min().reset_index().sort_values(by='selling_price',ascending=False)\n",
    "temp2.rename(columns={'selling_price':'min_selling_price'},inplace=True)\n",
    "\n",
    "temp2 = pd.merge(temp2,temp3,on='name')\n",
    "temp = pd.merge(temp,temp2,on='name')\n",
    "\n",
    "temp['Selling_price_per_car'] = temp['selling_price_mean'] // temp['no_of_cars']\n",
    "\n",
    "del temp2\n",
    "del temp3"
   ]
  },
  {
   "cell_type": "code",
   "execution_count": 16,
   "metadata": {},
   "outputs": [
    {
     "data": {
      "text/html": [
       "<div>\n",
       "<style scoped>\n",
       "    .dataframe tbody tr th:only-of-type {\n",
       "        vertical-align: middle;\n",
       "    }\n",
       "\n",
       "    .dataframe tbody tr th {\n",
       "        vertical-align: top;\n",
       "    }\n",
       "\n",
       "    .dataframe thead th {\n",
       "        text-align: right;\n",
       "    }\n",
       "</style>\n",
       "<table border=\"1\" class=\"dataframe\">\n",
       "  <thead>\n",
       "    <tr style=\"text-align: right;\">\n",
       "      <th></th>\n",
       "      <th>name</th>\n",
       "      <th>selling_price_median</th>\n",
       "      <th>selling_price_mean</th>\n",
       "      <th>no_of_cars</th>\n",
       "      <th>min_selling_price</th>\n",
       "      <th>max_selling_price</th>\n",
       "      <th>Selling_price_per_car</th>\n",
       "    </tr>\n",
       "  </thead>\n",
       "  <tbody>\n",
       "    <tr>\n",
       "      <th>0</th>\n",
       "      <td>Volvo XC90 T8 Excellence BSIV</td>\n",
       "      <td>10000000.0</td>\n",
       "      <td>10000000.0</td>\n",
       "      <td>1</td>\n",
       "      <td>10000000</td>\n",
       "      <td>10000000</td>\n",
       "      <td>10000000.0</td>\n",
       "    </tr>\n",
       "    <tr>\n",
       "      <th>1</th>\n",
       "      <td>BMW X7 xDrive 30d DPE</td>\n",
       "      <td>7200000.0</td>\n",
       "      <td>7200000.0</td>\n",
       "      <td>1</td>\n",
       "      <td>7200000</td>\n",
       "      <td>7200000</td>\n",
       "      <td>7200000.0</td>\n",
       "    </tr>\n",
       "    <tr>\n",
       "      <th>2</th>\n",
       "      <td>Audi A6 35 TFSI Matrix</td>\n",
       "      <td>6223000.0</td>\n",
       "      <td>6223000.0</td>\n",
       "      <td>3</td>\n",
       "      <td>5923000</td>\n",
       "      <td>6523000</td>\n",
       "      <td>2074333.0</td>\n",
       "    </tr>\n",
       "    <tr>\n",
       "      <th>3</th>\n",
       "      <td>Mercedes-Benz S-Class S 350 CDI</td>\n",
       "      <td>5925000.0</td>\n",
       "      <td>5925000.0</td>\n",
       "      <td>2</td>\n",
       "      <td>5850000</td>\n",
       "      <td>6000000</td>\n",
       "      <td>2962500.0</td>\n",
       "    </tr>\n",
       "    <tr>\n",
       "      <th>4</th>\n",
       "      <td>BMW 6 Series GT 630d Luxury Line</td>\n",
       "      <td>5915000.0</td>\n",
       "      <td>5832500.0</td>\n",
       "      <td>4</td>\n",
       "      <td>5500000</td>\n",
       "      <td>6000000</td>\n",
       "      <td>1458125.0</td>\n",
       "    </tr>\n",
       "  </tbody>\n",
       "</table>\n",
       "</div>"
      ],
      "text/plain": [
       "                               name  selling_price_median  selling_price_mean  \\\n",
       "0     Volvo XC90 T8 Excellence BSIV            10000000.0          10000000.0   \n",
       "1             BMW X7 xDrive 30d DPE             7200000.0           7200000.0   \n",
       "2            Audi A6 35 TFSI Matrix             6223000.0           6223000.0   \n",
       "3   Mercedes-Benz S-Class S 350 CDI             5925000.0           5925000.0   \n",
       "4  BMW 6 Series GT 630d Luxury Line             5915000.0           5832500.0   \n",
       "\n",
       "   no_of_cars  min_selling_price  max_selling_price  Selling_price_per_car  \n",
       "0           1           10000000           10000000             10000000.0  \n",
       "1           1            7200000            7200000              7200000.0  \n",
       "2           3            5923000            6523000              2074333.0  \n",
       "3           2            5850000            6000000              2962500.0  \n",
       "4           4            5500000            6000000              1458125.0  "
      ]
     },
     "execution_count": 16,
     "metadata": {},
     "output_type": "execute_result"
    }
   ],
   "source": [
    "temp.head()"
   ]
  },
  {
   "cell_type": "code",
   "execution_count": 17,
   "metadata": {},
   "outputs": [
    {
     "data": {
      "text/html": [
       "<div>\n",
       "<style scoped>\n",
       "    .dataframe tbody tr th:only-of-type {\n",
       "        vertical-align: middle;\n",
       "    }\n",
       "\n",
       "    .dataframe tbody tr th {\n",
       "        vertical-align: top;\n",
       "    }\n",
       "\n",
       "    .dataframe thead th {\n",
       "        text-align: right;\n",
       "    }\n",
       "</style>\n",
       "<table border=\"1\" class=\"dataframe\">\n",
       "  <thead>\n",
       "    <tr style=\"text-align: right;\">\n",
       "      <th></th>\n",
       "      <th>name</th>\n",
       "      <th>selling_price_median</th>\n",
       "      <th>selling_price_mean</th>\n",
       "      <th>no_of_cars</th>\n",
       "      <th>min_selling_price</th>\n",
       "      <th>max_selling_price</th>\n",
       "      <th>Selling_price_per_car</th>\n",
       "    </tr>\n",
       "  </thead>\n",
       "  <tbody>\n",
       "    <tr>\n",
       "      <th>731</th>\n",
       "      <td>Maruti Swift Dzire VDI</td>\n",
       "      <td>590000.0</td>\n",
       "      <td>578915.194915</td>\n",
       "      <td>118</td>\n",
       "      <td>360000</td>\n",
       "      <td>811000</td>\n",
       "      <td>4906.0</td>\n",
       "    </tr>\n",
       "    <tr>\n",
       "      <th>1533</th>\n",
       "      <td>Maruti Alto 800 LXI</td>\n",
       "      <td>257499.5</td>\n",
       "      <td>258473.657895</td>\n",
       "      <td>76</td>\n",
       "      <td>170000</td>\n",
       "      <td>350000</td>\n",
       "      <td>3400.0</td>\n",
       "    </tr>\n",
       "    <tr>\n",
       "      <th>1795</th>\n",
       "      <td>Maruti Alto LXi</td>\n",
       "      <td>150000.0</td>\n",
       "      <td>149789.840580</td>\n",
       "      <td>69</td>\n",
       "      <td>85000</td>\n",
       "      <td>225000</td>\n",
       "      <td>2170.0</td>\n",
       "    </tr>\n",
       "    <tr>\n",
       "      <th>1149</th>\n",
       "      <td>Maruti Swift VDI</td>\n",
       "      <td>400000.0</td>\n",
       "      <td>424299.966667</td>\n",
       "      <td>60</td>\n",
       "      <td>235000</td>\n",
       "      <td>755000</td>\n",
       "      <td>7071.0</td>\n",
       "    </tr>\n",
       "    <tr>\n",
       "      <th>1421</th>\n",
       "      <td>Maruti Alto K10 VXI</td>\n",
       "      <td>300000.0</td>\n",
       "      <td>301446.787234</td>\n",
       "      <td>47</td>\n",
       "      <td>175000</td>\n",
       "      <td>390000</td>\n",
       "      <td>6413.0</td>\n",
       "    </tr>\n",
       "  </tbody>\n",
       "</table>\n",
       "</div>"
      ],
      "text/plain": [
       "                        name  selling_price_median  selling_price_mean  \\\n",
       "731   Maruti Swift Dzire VDI              590000.0       578915.194915   \n",
       "1533     Maruti Alto 800 LXI              257499.5       258473.657895   \n",
       "1795         Maruti Alto LXi              150000.0       149789.840580   \n",
       "1149        Maruti Swift VDI              400000.0       424299.966667   \n",
       "1421     Maruti Alto K10 VXI              300000.0       301446.787234   \n",
       "\n",
       "      no_of_cars  min_selling_price  max_selling_price  Selling_price_per_car  \n",
       "731          118             360000             811000                 4906.0  \n",
       "1533          76             170000             350000                 3400.0  \n",
       "1795          69              85000             225000                 2170.0  \n",
       "1149          60             235000             755000                 7071.0  \n",
       "1421          47             175000             390000                 6413.0  "
      ]
     },
     "execution_count": 17,
     "metadata": {},
     "output_type": "execute_result"
    }
   ],
   "source": [
    "temp.sort_values(by='no_of_cars',ascending=False).head()"
   ]
  },
  {
   "cell_type": "code",
   "execution_count": 18,
   "metadata": {},
   "outputs": [
    {
     "data": {
      "text/html": [
       "<div>\n",
       "<style scoped>\n",
       "    .dataframe tbody tr th:only-of-type {\n",
       "        vertical-align: middle;\n",
       "    }\n",
       "\n",
       "    .dataframe tbody tr th {\n",
       "        vertical-align: top;\n",
       "    }\n",
       "\n",
       "    .dataframe thead th {\n",
       "        text-align: right;\n",
       "    }\n",
       "</style>\n",
       "<table border=\"1\" class=\"dataframe\">\n",
       "  <thead>\n",
       "    <tr style=\"text-align: right;\">\n",
       "      <th></th>\n",
       "      <th>name</th>\n",
       "      <th>selling_price_median</th>\n",
       "      <th>selling_price_mean</th>\n",
       "      <th>no_of_cars</th>\n",
       "      <th>min_selling_price</th>\n",
       "      <th>max_selling_price</th>\n",
       "      <th>Selling_price_per_car</th>\n",
       "    </tr>\n",
       "  </thead>\n",
       "  <tbody>\n",
       "    <tr>\n",
       "      <th>0</th>\n",
       "      <td>Volvo XC90 T8 Excellence BSIV</td>\n",
       "      <td>10000000.0</td>\n",
       "      <td>10000000.0</td>\n",
       "      <td>1</td>\n",
       "      <td>10000000</td>\n",
       "      <td>10000000</td>\n",
       "      <td>10000000.0</td>\n",
       "    </tr>\n",
       "    <tr>\n",
       "      <th>1</th>\n",
       "      <td>BMW X7 xDrive 30d DPE</td>\n",
       "      <td>7200000.0</td>\n",
       "      <td>7200000.0</td>\n",
       "      <td>1</td>\n",
       "      <td>7200000</td>\n",
       "      <td>7200000</td>\n",
       "      <td>7200000.0</td>\n",
       "    </tr>\n",
       "    <tr>\n",
       "      <th>6</th>\n",
       "      <td>Volvo XC60 Inscription D5 BSIV</td>\n",
       "      <td>5500000.0</td>\n",
       "      <td>5500000.0</td>\n",
       "      <td>1</td>\n",
       "      <td>5500000</td>\n",
       "      <td>5500000</td>\n",
       "      <td>5500000.0</td>\n",
       "    </tr>\n",
       "    <tr>\n",
       "      <th>7</th>\n",
       "      <td>Volvo S90 D4 Inscription BSIV</td>\n",
       "      <td>5500000.0</td>\n",
       "      <td>5500000.0</td>\n",
       "      <td>1</td>\n",
       "      <td>5500000</td>\n",
       "      <td>5500000</td>\n",
       "      <td>5500000.0</td>\n",
       "    </tr>\n",
       "    <tr>\n",
       "      <th>8</th>\n",
       "      <td>Mercedes-Benz E-Class Exclusive E 200 BSIV</td>\n",
       "      <td>5200000.0</td>\n",
       "      <td>5200000.0</td>\n",
       "      <td>1</td>\n",
       "      <td>5200000</td>\n",
       "      <td>5200000</td>\n",
       "      <td>5200000.0</td>\n",
       "    </tr>\n",
       "  </tbody>\n",
       "</table>\n",
       "</div>"
      ],
      "text/plain": [
       "                                         name  selling_price_median  \\\n",
       "0               Volvo XC90 T8 Excellence BSIV            10000000.0   \n",
       "1                       BMW X7 xDrive 30d DPE             7200000.0   \n",
       "6              Volvo XC60 Inscription D5 BSIV             5500000.0   \n",
       "7               Volvo S90 D4 Inscription BSIV             5500000.0   \n",
       "8  Mercedes-Benz E-Class Exclusive E 200 BSIV             5200000.0   \n",
       "\n",
       "   selling_price_mean  no_of_cars  min_selling_price  max_selling_price  \\\n",
       "0          10000000.0           1           10000000           10000000   \n",
       "1           7200000.0           1            7200000            7200000   \n",
       "6           5500000.0           1            5500000            5500000   \n",
       "7           5500000.0           1            5500000            5500000   \n",
       "8           5200000.0           1            5200000            5200000   \n",
       "\n",
       "   Selling_price_per_car  \n",
       "0             10000000.0  \n",
       "1              7200000.0  \n",
       "6              5500000.0  \n",
       "7              5500000.0  \n",
       "8              5200000.0  "
      ]
     },
     "execution_count": 18,
     "metadata": {},
     "output_type": "execute_result"
    }
   ],
   "source": [
    "temp.sort_values(by='Selling_price_per_car',ascending=False).head()"
   ]
  },
  {
   "cell_type": "markdown",
   "metadata": {},
   "source": [
    "<h5>Which car model has highest selling price</h5>"
   ]
  },
  {
   "cell_type": "code",
   "execution_count": 19,
   "metadata": {},
   "outputs": [
    {
     "name": "stdout",
     "output_type": "stream",
     "text": [
      "Number of Unique name : 1982\n",
      "% of data having unique name : 29.507220485335715\n",
      "***************************************************\n",
      "Top 10 rest_type that occured most\n",
      "Maruti Swift Dzire VDI      118\n",
      "Maruti Alto 800 LXI          76\n",
      "Maruti Alto LXi              69\n",
      "Maruti Swift VDI             60\n",
      "Maruti Alto K10 VXI          47\n",
      "Hyundai EON Era Plus         44\n",
      "Maruti Wagon R VXI BS IV     43\n",
      "Maruti Alto LX               43\n",
      "Maruti Ertiga VDI            42\n",
      "Maruti Ritz VDi              40\n",
      "Name: name, dtype: int64\n"
     ]
    }
   ],
   "source": [
    "unique_name = df['name'].value_counts()\n",
    "print('Number of Unique name :', unique_name.shape[0])\n",
    "print('% of data having unique name :',unique_name.shape[0]/df.shape[0]*100)\n",
    "print('***************************************************')\n",
    "print('Top 10 rest_type that occured most')\n",
    "print(unique_name.head(10))"
   ]
  },
  {
   "cell_type": "code",
   "execution_count": 20,
   "metadata": {},
   "outputs": [],
   "source": [
    "df['name'] = df['name'].str.split(' ').str[0]"
   ]
  },
  {
   "cell_type": "code",
   "execution_count": 21,
   "metadata": {},
   "outputs": [
    {
     "data": {
      "image/png": "[encoded data removed]",
      "text/plain": [
       "<Figure size 1296x360 with 1 Axes>"
      ]
     },
     "metadata": {
      "needs_background": "light"
     },
     "output_type": "display_data"
    }
   ],
   "source": [
    "temp = df.groupby(['name'])['selling_price'].median().reset_index().sort_values(by='selling_price',ascending=False)\n",
    "temp.rename(columns={'selling_price':'selling_price_median'},inplace=True)\n",
    "\n",
    "plt.figure(figsize=(18,5))\n",
    "sns.boxplot(y='selling_price',x='name',data=pd.merge(temp,df,on='name'),order=temp['name'].unique().tolist()[:30])\n",
    "plt.xticks(rotation=90)\n",
    "plt.show()"
   ]
  },
  {
   "cell_type": "code",
   "execution_count": 22,
   "metadata": {},
   "outputs": [],
   "source": [
    "temp2 = df.groupby(['name'])['selling_price'].mean().reset_index().sort_values(by='selling_price',ascending=False)\n",
    "temp2.rename(columns={'selling_price':'selling_price_mean'},inplace=True)\n",
    "\n",
    "temp3 = df.groupby(['name'])['selling_price'].count().reset_index().sort_values(by='selling_price',ascending=False)\n",
    "temp3.rename(columns={'selling_price':'no_of_cars'},inplace=True)\n",
    "\n",
    "temp2 = pd.merge(temp2,temp3,on='name')\n",
    "temp = pd.merge(temp,temp2,on='name')\n",
    "\n",
    "temp3 = df.groupby(['name'])['selling_price'].max().reset_index().sort_values(by='selling_price',ascending=False)\n",
    "temp3.rename(columns={'selling_price':'max_selling_price'},inplace=True)\n",
    "\n",
    "temp2 = df.groupby(['name'])['selling_price'].min().reset_index().sort_values(by='selling_price',ascending=False)\n",
    "temp2.rename(columns={'selling_price':'min_selling_price'},inplace=True)\n",
    "\n",
    "temp2 = pd.merge(temp2,temp3,on='name')\n",
    "temp = pd.merge(temp,temp2,on='name')\n",
    "\n",
    "temp['Selling_price_per_car'] = temp['selling_price_mean'] // temp['no_of_cars']\n",
    "\n",
    "del temp2\n",
    "del temp3"
   ]
  },
  {
   "cell_type": "code",
   "execution_count": 23,
   "metadata": {},
   "outputs": [
    {
     "data": {
      "text/html": [
       "<div>\n",
       "<style scoped>\n",
       "    .dataframe tbody tr th:only-of-type {\n",
       "        vertical-align: middle;\n",
       "    }\n",
       "\n",
       "    .dataframe tbody tr th {\n",
       "        vertical-align: top;\n",
       "    }\n",
       "\n",
       "    .dataframe thead th {\n",
       "        text-align: right;\n",
       "    }\n",
       "</style>\n",
       "<table border=\"1\" class=\"dataframe\">\n",
       "  <thead>\n",
       "    <tr style=\"text-align: right;\">\n",
       "      <th></th>\n",
       "      <th>name</th>\n",
       "      <th>selling_price_median</th>\n",
       "      <th>selling_price_mean</th>\n",
       "      <th>no_of_cars</th>\n",
       "      <th>min_selling_price</th>\n",
       "      <th>max_selling_price</th>\n",
       "      <th>Selling_price_per_car</th>\n",
       "    </tr>\n",
       "  </thead>\n",
       "  <tbody>\n",
       "    <tr>\n",
       "      <th>0</th>\n",
       "      <td>Lexus</td>\n",
       "      <td>5150000</td>\n",
       "      <td>5.150000e+06</td>\n",
       "      <td>1</td>\n",
       "      <td>5150000</td>\n",
       "      <td>5150000</td>\n",
       "      <td>5150000.0</td>\n",
       "    </tr>\n",
       "    <tr>\n",
       "      <th>1</th>\n",
       "      <td>Volvo</td>\n",
       "      <td>3400000</td>\n",
       "      <td>4.036111e+06</td>\n",
       "      <td>9</td>\n",
       "      <td>1200000</td>\n",
       "      <td>10000000</td>\n",
       "      <td>448456.0</td>\n",
       "    </tr>\n",
       "    <tr>\n",
       "      <th>2</th>\n",
       "      <td>Jaguar</td>\n",
       "      <td>2668000</td>\n",
       "      <td>2.748250e+06</td>\n",
       "      <td>8</td>\n",
       "      <td>2000000</td>\n",
       "      <td>3500000</td>\n",
       "      <td>343531.0</td>\n",
       "    </tr>\n",
       "    <tr>\n",
       "      <th>3</th>\n",
       "      <td>BMW</td>\n",
       "      <td>2500000</td>\n",
       "      <td>2.826222e+06</td>\n",
       "      <td>45</td>\n",
       "      <td>480000</td>\n",
       "      <td>7200000</td>\n",
       "      <td>62804.0</td>\n",
       "    </tr>\n",
       "    <tr>\n",
       "      <th>4</th>\n",
       "      <td>Audi</td>\n",
       "      <td>2000000</td>\n",
       "      <td>2.422364e+06</td>\n",
       "      <td>33</td>\n",
       "      <td>730000</td>\n",
       "      <td>6523000</td>\n",
       "      <td>73404.0</td>\n",
       "    </tr>\n",
       "  </tbody>\n",
       "</table>\n",
       "</div>"
      ],
      "text/plain": [
       "     name  selling_price_median  selling_price_mean  no_of_cars  \\\n",
       "0   Lexus               5150000        5.150000e+06           1   \n",
       "1   Volvo               3400000        4.036111e+06           9   \n",
       "2  Jaguar               2668000        2.748250e+06           8   \n",
       "3     BMW               2500000        2.826222e+06          45   \n",
       "4    Audi               2000000        2.422364e+06          33   \n",
       "\n",
       "   min_selling_price  max_selling_price  Selling_price_per_car  \n",
       "0            5150000            5150000              5150000.0  \n",
       "1            1200000           10000000               448456.0  \n",
       "2            2000000            3500000               343531.0  \n",
       "3             480000            7200000                62804.0  \n",
       "4             730000            6523000                73404.0  "
      ]
     },
     "execution_count": 23,
     "metadata": {},
     "output_type": "execute_result"
    }
   ],
   "source": [
    "temp.head()"
   ]
  },
  {
   "cell_type": "code",
   "execution_count": 24,
   "metadata": {},
   "outputs": [
    {
     "data": {
      "text/html": [
       "<div>\n",
       "<style scoped>\n",
       "    .dataframe tbody tr th:only-of-type {\n",
       "        vertical-align: middle;\n",
       "    }\n",
       "\n",
       "    .dataframe tbody tr th {\n",
       "        vertical-align: top;\n",
       "    }\n",
       "\n",
       "    .dataframe thead th {\n",
       "        text-align: right;\n",
       "    }\n",
       "</style>\n",
       "<table border=\"1\" class=\"dataframe\">\n",
       "  <thead>\n",
       "    <tr style=\"text-align: right;\">\n",
       "      <th></th>\n",
       "      <th>name</th>\n",
       "      <th>selling_price_median</th>\n",
       "      <th>selling_price_mean</th>\n",
       "      <th>no_of_cars</th>\n",
       "      <th>min_selling_price</th>\n",
       "      <th>max_selling_price</th>\n",
       "      <th>Selling_price_per_car</th>\n",
       "    </tr>\n",
       "  </thead>\n",
       "  <tbody>\n",
       "    <tr>\n",
       "      <th>22</th>\n",
       "      <td>Maruti</td>\n",
       "      <td>350000</td>\n",
       "      <td>393974.543801</td>\n",
       "      <td>2089</td>\n",
       "      <td>29999</td>\n",
       "      <td>1200000</td>\n",
       "      <td>188.0</td>\n",
       "    </tr>\n",
       "    <tr>\n",
       "      <th>17</th>\n",
       "      <td>Hyundai</td>\n",
       "      <td>425000</td>\n",
       "      <td>466601.687809</td>\n",
       "      <td>1214</td>\n",
       "      <td>55000</td>\n",
       "      <td>1950000</td>\n",
       "      <td>384.0</td>\n",
       "    </tr>\n",
       "    <tr>\n",
       "      <th>14</th>\n",
       "      <td>Mahindra</td>\n",
       "      <td>570000</td>\n",
       "      <td>623684.023977</td>\n",
       "      <td>709</td>\n",
       "      <td>120000</td>\n",
       "      <td>1800000</td>\n",
       "      <td>879.0</td>\n",
       "    </tr>\n",
       "    <tr>\n",
       "      <th>26</th>\n",
       "      <td>Tata</td>\n",
       "      <td>265000</td>\n",
       "      <td>348941.398104</td>\n",
       "      <td>633</td>\n",
       "      <td>45000</td>\n",
       "      <td>1700000</td>\n",
       "      <td>551.0</td>\n",
       "    </tr>\n",
       "    <tr>\n",
       "      <th>15</th>\n",
       "      <td>Honda</td>\n",
       "      <td>560000</td>\n",
       "      <td>574460.207756</td>\n",
       "      <td>361</td>\n",
       "      <td>50000</td>\n",
       "      <td>2125000</td>\n",
       "      <td>1591.0</td>\n",
       "    </tr>\n",
       "  </tbody>\n",
       "</table>\n",
       "</div>"
      ],
      "text/plain": [
       "        name  selling_price_median  selling_price_mean  no_of_cars  \\\n",
       "22    Maruti                350000       393974.543801        2089   \n",
       "17   Hyundai                425000       466601.687809        1214   \n",
       "14  Mahindra                570000       623684.023977         709   \n",
       "26      Tata                265000       348941.398104         633   \n",
       "15     Honda                560000       574460.207756         361   \n",
       "\n",
       "    min_selling_price  max_selling_price  Selling_price_per_car  \n",
       "22              29999            1200000                  188.0  \n",
       "17              55000            1950000                  384.0  \n",
       "14             120000            1800000                  879.0  \n",
       "26              45000            1700000                  551.0  \n",
       "15              50000            2125000                 1591.0  "
      ]
     },
     "execution_count": 24,
     "metadata": {},
     "output_type": "execute_result"
    }
   ],
   "source": [
    "temp.sort_values(by='no_of_cars',ascending=False).head()"
   ]
  },
  {
   "cell_type": "code",
   "execution_count": 25,
   "metadata": {},
   "outputs": [
    {
     "data": {
      "text/html": [
       "<div>\n",
       "<style scoped>\n",
       "    .dataframe tbody tr th:only-of-type {\n",
       "        vertical-align: middle;\n",
       "    }\n",
       "\n",
       "    .dataframe tbody tr th {\n",
       "        vertical-align: top;\n",
       "    }\n",
       "\n",
       "    .dataframe thead th {\n",
       "        text-align: right;\n",
       "    }\n",
       "</style>\n",
       "<table border=\"1\" class=\"dataframe\">\n",
       "  <thead>\n",
       "    <tr style=\"text-align: right;\">\n",
       "      <th></th>\n",
       "      <th>name</th>\n",
       "      <th>selling_price_median</th>\n",
       "      <th>selling_price_mean</th>\n",
       "      <th>no_of_cars</th>\n",
       "      <th>min_selling_price</th>\n",
       "      <th>max_selling_price</th>\n",
       "      <th>Selling_price_per_car</th>\n",
       "    </tr>\n",
       "  </thead>\n",
       "  <tbody>\n",
       "    <tr>\n",
       "      <th>0</th>\n",
       "      <td>Lexus</td>\n",
       "      <td>5150000</td>\n",
       "      <td>5.150000e+06</td>\n",
       "      <td>1</td>\n",
       "      <td>5150000</td>\n",
       "      <td>5150000</td>\n",
       "      <td>5150000.0</td>\n",
       "    </tr>\n",
       "    <tr>\n",
       "      <th>5</th>\n",
       "      <td>Land</td>\n",
       "      <td>2000000</td>\n",
       "      <td>2.716667e+06</td>\n",
       "      <td>3</td>\n",
       "      <td>1650000</td>\n",
       "      <td>4500000</td>\n",
       "      <td>905555.0</td>\n",
       "    </tr>\n",
       "    <tr>\n",
       "      <th>7</th>\n",
       "      <td>MG</td>\n",
       "      <td>1750000</td>\n",
       "      <td>1.783333e+06</td>\n",
       "      <td>3</td>\n",
       "      <td>1700000</td>\n",
       "      <td>1900000</td>\n",
       "      <td>594444.0</td>\n",
       "    </tr>\n",
       "    <tr>\n",
       "      <th>10</th>\n",
       "      <td>Kia</td>\n",
       "      <td>1575000</td>\n",
       "      <td>1.372667e+06</td>\n",
       "      <td>3</td>\n",
       "      <td>643000</td>\n",
       "      <td>1900000</td>\n",
       "      <td>457555.0</td>\n",
       "    </tr>\n",
       "    <tr>\n",
       "      <th>1</th>\n",
       "      <td>Volvo</td>\n",
       "      <td>3400000</td>\n",
       "      <td>4.036111e+06</td>\n",
       "      <td>9</td>\n",
       "      <td>1200000</td>\n",
       "      <td>10000000</td>\n",
       "      <td>448456.0</td>\n",
       "    </tr>\n",
       "  </tbody>\n",
       "</table>\n",
       "</div>"
      ],
      "text/plain": [
       "     name  selling_price_median  selling_price_mean  no_of_cars  \\\n",
       "0   Lexus               5150000        5.150000e+06           1   \n",
       "5    Land               2000000        2.716667e+06           3   \n",
       "7      MG               1750000        1.783333e+06           3   \n",
       "10    Kia               1575000        1.372667e+06           3   \n",
       "1   Volvo               3400000        4.036111e+06           9   \n",
       "\n",
       "    min_selling_price  max_selling_price  Selling_price_per_car  \n",
       "0             5150000            5150000              5150000.0  \n",
       "5             1650000            4500000               905555.0  \n",
       "7             1700000            1900000               594444.0  \n",
       "10             643000            1900000               457555.0  \n",
       "1             1200000           10000000               448456.0  "
      ]
     },
     "execution_count": 25,
     "metadata": {},
     "output_type": "execute_result"
    }
   ],
   "source": [
    "temp.sort_values(by='Selling_price_per_car',ascending=False).head()"
   ]
  },
  {
   "cell_type": "markdown",
   "metadata": {},
   "source": [
    "<h5>Analyzing fuel column</h5>"
   ]
  },
  {
   "cell_type": "code",
   "execution_count": 26,
   "metadata": {},
   "outputs": [
    {
     "data": {
      "text/html": [
       "<div>\n",
       "<style scoped>\n",
       "    .dataframe tbody tr th:only-of-type {\n",
       "        vertical-align: middle;\n",
       "    }\n",
       "\n",
       "    .dataframe tbody tr th {\n",
       "        vertical-align: top;\n",
       "    }\n",
       "\n",
       "    .dataframe thead th {\n",
       "        text-align: right;\n",
       "    }\n",
       "</style>\n",
       "<table border=\"1\" class=\"dataframe\">\n",
       "  <thead>\n",
       "    <tr style=\"text-align: right;\">\n",
       "      <th></th>\n",
       "      <th>name</th>\n",
       "      <th>year</th>\n",
       "      <th>selling_price</th>\n",
       "      <th>km_driven</th>\n",
       "      <th>fuel</th>\n",
       "      <th>seller_type</th>\n",
       "      <th>transmission</th>\n",
       "      <th>owner</th>\n",
       "      <th>mileage</th>\n",
       "      <th>engine</th>\n",
       "      <th>max_power</th>\n",
       "      <th>torque</th>\n",
       "      <th>seats</th>\n",
       "    </tr>\n",
       "  </thead>\n",
       "  <tbody>\n",
       "    <tr>\n",
       "      <th>0</th>\n",
       "      <td>Maruti</td>\n",
       "      <td>2014</td>\n",
       "      <td>450000</td>\n",
       "      <td>145500</td>\n",
       "      <td>Diesel</td>\n",
       "      <td>Individual</td>\n",
       "      <td>Manual</td>\n",
       "      <td>First Owner</td>\n",
       "      <td>23.4 kmpl</td>\n",
       "      <td>1248 CC</td>\n",
       "      <td>74 bhp</td>\n",
       "      <td>190Nm@ 2000rpm</td>\n",
       "      <td>5.0</td>\n",
       "    </tr>\n",
       "    <tr>\n",
       "      <th>1</th>\n",
       "      <td>Skoda</td>\n",
       "      <td>2014</td>\n",
       "      <td>370000</td>\n",
       "      <td>120000</td>\n",
       "      <td>Diesel</td>\n",
       "      <td>Individual</td>\n",
       "      <td>Manual</td>\n",
       "      <td>Second Owner</td>\n",
       "      <td>21.14 kmpl</td>\n",
       "      <td>1498 CC</td>\n",
       "      <td>103.52 bhp</td>\n",
       "      <td>250Nm@ 1500-2500rpm</td>\n",
       "      <td>5.0</td>\n",
       "    </tr>\n",
       "    <tr>\n",
       "      <th>2</th>\n",
       "      <td>Honda</td>\n",
       "      <td>2006</td>\n",
       "      <td>158000</td>\n",
       "      <td>140000</td>\n",
       "      <td>Petrol</td>\n",
       "      <td>Individual</td>\n",
       "      <td>Manual</td>\n",
       "      <td>Third Owner</td>\n",
       "      <td>17.7 kmpl</td>\n",
       "      <td>1497 CC</td>\n",
       "      <td>78 bhp</td>\n",
       "      <td>12.7@ 2,700(kgm@ rpm)</td>\n",
       "      <td>5.0</td>\n",
       "    </tr>\n",
       "    <tr>\n",
       "      <th>3</th>\n",
       "      <td>Hyundai</td>\n",
       "      <td>2010</td>\n",
       "      <td>225000</td>\n",
       "      <td>127000</td>\n",
       "      <td>Diesel</td>\n",
       "      <td>Individual</td>\n",
       "      <td>Manual</td>\n",
       "      <td>First Owner</td>\n",
       "      <td>23.0 kmpl</td>\n",
       "      <td>1396 CC</td>\n",
       "      <td>90 bhp</td>\n",
       "      <td>22.4 kgm at 1750-2750rpm</td>\n",
       "      <td>5.0</td>\n",
       "    </tr>\n",
       "    <tr>\n",
       "      <th>4</th>\n",
       "      <td>Maruti</td>\n",
       "      <td>2007</td>\n",
       "      <td>130000</td>\n",
       "      <td>120000</td>\n",
       "      <td>Petrol</td>\n",
       "      <td>Individual</td>\n",
       "      <td>Manual</td>\n",
       "      <td>First Owner</td>\n",
       "      <td>16.1 kmpl</td>\n",
       "      <td>1298 CC</td>\n",
       "      <td>88.2 bhp</td>\n",
       "      <td>11.5@ 4,500(kgm@ rpm)</td>\n",
       "      <td>5.0</td>\n",
       "    </tr>\n",
       "  </tbody>\n",
       "</table>\n",
       "</div>"
      ],
      "text/plain": [
       "      name  year  selling_price  km_driven    fuel seller_type transmission  \\\n",
       "0   Maruti  2014         450000     145500  Diesel  Individual       Manual   \n",
       "1    Skoda  2014         370000     120000  Diesel  Individual       Manual   \n",
       "2    Honda  2006         158000     140000  Petrol  Individual       Manual   \n",
       "3  Hyundai  2010         225000     127000  Diesel  Individual       Manual   \n",
       "4   Maruti  2007         130000     120000  Petrol  Individual       Manual   \n",
       "\n",
       "          owner     mileage   engine   max_power                    torque  \\\n",
       "0   First Owner   23.4 kmpl  1248 CC      74 bhp            190Nm@ 2000rpm   \n",
       "1  Second Owner  21.14 kmpl  1498 CC  103.52 bhp       250Nm@ 1500-2500rpm   \n",
       "2   Third Owner   17.7 kmpl  1497 CC      78 bhp     12.7@ 2,700(kgm@ rpm)   \n",
       "3   First Owner   23.0 kmpl  1396 CC      90 bhp  22.4 kgm at 1750-2750rpm   \n",
       "4   First Owner   16.1 kmpl  1298 CC    88.2 bhp     11.5@ 4,500(kgm@ rpm)   \n",
       "\n",
       "   seats  \n",
       "0    5.0  \n",
       "1    5.0  \n",
       "2    5.0  \n",
       "3    5.0  \n",
       "4    5.0  "
      ]
     },
     "execution_count": 26,
     "metadata": {},
     "output_type": "execute_result"
    }
   ],
   "source": [
    "df.head()"
   ]
  },
  {
   "cell_type": "code",
   "execution_count": 27,
   "metadata": {},
   "outputs": [
    {
     "name": "stdout",
     "output_type": "stream",
     "text": [
      "Number of Unique fuel : 4\n",
      "% of data having unique fuel : 0.0595503945213637\n",
      "***************************************************\n",
      "Diesel    3658\n",
      "Petrol    2973\n",
      "CNG         51\n",
      "LPG         35\n",
      "Name: fuel, dtype: int64\n"
     ]
    }
   ],
   "source": [
    "unique_fuel = df['fuel'].value_counts()\n",
    "print('Number of Unique fuel :', unique_fuel.shape[0])\n",
    "print('% of data having unique fuel :',unique_fuel.shape[0]/df.shape[0]*100)\n",
    "print('***************************************************')\n",
    "print(unique_fuel.head(10))"
   ]
  },
  {
   "cell_type": "code",
   "execution_count": 28,
   "metadata": {},
   "outputs": [
    {
     "data": {
      "image/png": "[encoded data removed]",
      "text/plain": [
       "<Figure size 1080x360 with 1 Axes>"
      ]
     },
     "metadata": {
      "needs_background": "light"
     },
     "output_type": "display_data"
    }
   ],
   "source": [
    "plt.figure(figsize=(15,5))\n",
    "sns.countplot(x='fuel', order=unique_fuel.index.tolist(),data=df)\n",
    "plt.xticks(rotation=90)\n",
    "plt.show()"
   ]
  },
  {
   "cell_type": "code",
   "execution_count": 29,
   "metadata": {},
   "outputs": [
    {
     "data": {
      "image/png": "[encoded data removed]",
      "text/plain": [
       "<Figure size 1296x360 with 1 Axes>"
      ]
     },
     "metadata": {
      "needs_background": "light"
     },
     "output_type": "display_data"
    }
   ],
   "source": [
    "temp = df.groupby(['fuel'])['selling_price'].median().reset_index().sort_values(by='selling_price',ascending=False)\n",
    "temp.rename(columns={'selling_price':'selling_price_median'},inplace=True)\n",
    "\n",
    "plt.figure(figsize=(18,5))\n",
    "sns.boxplot(y='selling_price',x='fuel',data=pd.merge(temp,df,on='fuel'),order=temp['fuel'].unique().tolist()[:30])\n",
    "plt.xticks(rotation=90)\n",
    "plt.show()"
   ]
  },
  {
   "cell_type": "code",
   "execution_count": 30,
   "metadata": {},
   "outputs": [],
   "source": [
    "temp2 = df.groupby(['fuel'])['selling_price'].mean().reset_index().sort_values(by='selling_price',ascending=False)\n",
    "temp2.rename(columns={'selling_price':'selling_price_mean'},inplace=True)\n",
    "\n",
    "temp3 = df.groupby(['fuel'])['selling_price'].count().reset_index().sort_values(by='selling_price',ascending=False)\n",
    "temp3.rename(columns={'selling_price':'no_of_cars'},inplace=True)\n",
    "\n",
    "temp2 = pd.merge(temp2,temp3,on='fuel')\n",
    "temp = pd.merge(temp,temp2,on='fuel')\n",
    "\n",
    "temp3 = df.groupby(['fuel'])['selling_price'].max().reset_index().sort_values(by='selling_price',ascending=False)\n",
    "temp3.rename(columns={'selling_price':'max_selling_price'},inplace=True)\n",
    "\n",
    "temp2 = df.groupby(['fuel'])['selling_price'].min().reset_index().sort_values(by='selling_price',ascending=False)\n",
    "temp2.rename(columns={'selling_price':'min_selling_price'},inplace=True)\n",
    "\n",
    "temp2 = pd.merge(temp2,temp3,on='fuel')\n",
    "temp = pd.merge(temp,temp2,on='fuel')\n",
    "\n",
    "temp['Selling_price_per_car'] = temp['selling_price_mean'] // temp['no_of_cars']\n",
    "\n",
    "del temp2\n",
    "del temp3"
   ]
  },
  {
   "cell_type": "code",
   "execution_count": 31,
   "metadata": {},
   "outputs": [
    {
     "data": {
      "text/html": [
       "<div>\n",
       "<style scoped>\n",
       "    .dataframe tbody tr th:only-of-type {\n",
       "        vertical-align: middle;\n",
       "    }\n",
       "\n",
       "    .dataframe tbody tr th {\n",
       "        vertical-align: top;\n",
       "    }\n",
       "\n",
       "    .dataframe thead th {\n",
       "        text-align: right;\n",
       "    }\n",
       "</style>\n",
       "<table border=\"1\" class=\"dataframe\">\n",
       "  <thead>\n",
       "    <tr style=\"text-align: right;\">\n",
       "      <th></th>\n",
       "      <th>fuel</th>\n",
       "      <th>selling_price_median</th>\n",
       "      <th>selling_price_mean</th>\n",
       "      <th>no_of_cars</th>\n",
       "      <th>min_selling_price</th>\n",
       "      <th>max_selling_price</th>\n",
       "      <th>Selling_price_per_car</th>\n",
       "    </tr>\n",
       "  </thead>\n",
       "  <tbody>\n",
       "    <tr>\n",
       "      <th>0</th>\n",
       "      <td>Diesel</td>\n",
       "      <td>525000</td>\n",
       "      <td>647996.111536</td>\n",
       "      <td>3658</td>\n",
       "      <td>45000</td>\n",
       "      <td>7200000</td>\n",
       "      <td>177.0</td>\n",
       "    </tr>\n",
       "    <tr>\n",
       "      <th>1</th>\n",
       "      <td>CNG</td>\n",
       "      <td>330000</td>\n",
       "      <td>317666.607843</td>\n",
       "      <td>51</td>\n",
       "      <td>120000</td>\n",
       "      <td>545000</td>\n",
       "      <td>6228.0</td>\n",
       "    </tr>\n",
       "    <tr>\n",
       "      <th>2</th>\n",
       "      <td>Petrol</td>\n",
       "      <td>320000</td>\n",
       "      <td>384050.780020</td>\n",
       "      <td>2973</td>\n",
       "      <td>29999</td>\n",
       "      <td>10000000</td>\n",
       "      <td>129.0</td>\n",
       "    </tr>\n",
       "    <tr>\n",
       "      <th>3</th>\n",
       "      <td>LPG</td>\n",
       "      <td>200000</td>\n",
       "      <td>210885.714286</td>\n",
       "      <td>35</td>\n",
       "      <td>54000</td>\n",
       "      <td>375000</td>\n",
       "      <td>6025.0</td>\n",
       "    </tr>\n",
       "  </tbody>\n",
       "</table>\n",
       "</div>"
      ],
      "text/plain": [
       "     fuel  selling_price_median  selling_price_mean  no_of_cars  \\\n",
       "0  Diesel                525000       647996.111536        3658   \n",
       "1     CNG                330000       317666.607843          51   \n",
       "2  Petrol                320000       384050.780020        2973   \n",
       "3     LPG                200000       210885.714286          35   \n",
       "\n",
       "   min_selling_price  max_selling_price  Selling_price_per_car  \n",
       "0              45000            7200000                  177.0  \n",
       "1             120000             545000                 6228.0  \n",
       "2              29999           10000000                  129.0  \n",
       "3              54000             375000                 6025.0  "
      ]
     },
     "execution_count": 31,
     "metadata": {},
     "output_type": "execute_result"
    }
   ],
   "source": [
    "temp.head()"
   ]
  },
  {
   "cell_type": "markdown",
   "metadata": {},
   "source": [
    "<h5>Analyzing seller_type column</h5>"
   ]
  },
  {
   "cell_type": "code",
   "execution_count": 32,
   "metadata": {},
   "outputs": [
    {
     "name": "stdout",
     "output_type": "stream",
     "text": [
      "Number of seller_type : 3\n",
      "% of data having unique seller_type : 0.044662795891022775\n",
      "***************************************************\n",
      "Individual          6024\n",
      "Dealer               666\n",
      "Trustmark Dealer      27\n",
      "Name: seller_type, dtype: int64\n"
     ]
    }
   ],
   "source": [
    "unique_seller_type = df['seller_type'].value_counts()\n",
    "print('Number of seller_type :', unique_seller_type.shape[0])\n",
    "print('% of data having unique seller_type :',unique_seller_type.shape[0]/df.shape[0]*100)\n",
    "print('***************************************************')\n",
    "print(unique_seller_type.head(10))"
   ]
  },
  {
   "cell_type": "code",
   "execution_count": 33,
   "metadata": {},
   "outputs": [
    {
     "data": {
      "image/png": "[encoded data removed]",
      "text/plain": [
       "<Figure size 1080x360 with 1 Axes>"
      ]
     },
     "metadata": {
      "needs_background": "light"
     },
     "output_type": "display_data"
    }
   ],
   "source": [
    "plt.figure(figsize=(15,5))\n",
    "sns.countplot(x='seller_type', order=unique_seller_type.index.tolist(),data=df)\n",
    "plt.xticks(rotation=90)\n",
    "plt.show()"
   ]
  },
  {
   "cell_type": "code",
   "execution_count": 34,
   "metadata": {},
   "outputs": [
    {
     "data": {
      "image/png": "[encoded data removed]",
      "text/plain": [
       "<Figure size 1296x360 with 1 Axes>"
      ]
     },
     "metadata": {
      "needs_background": "light"
     },
     "output_type": "display_data"
    }
   ],
   "source": [
    "temp = df.groupby(['seller_type'])['selling_price'].median().reset_index().sort_values(by='selling_price',ascending=False)\n",
    "temp.rename(columns={'selling_price':'selling_price_median'},inplace=True)\n",
    "\n",
    "plt.figure(figsize=(18,5))\n",
    "sns.boxplot(y='selling_price',x='seller_type',data=pd.merge(temp,df,on='seller_type'),order=temp['seller_type'].unique().tolist()[:30])\n",
    "plt.xticks(rotation=90)\n",
    "plt.show()"
   ]
  },
  {
   "cell_type": "code",
   "execution_count": 35,
   "metadata": {},
   "outputs": [],
   "source": [
    "temp2 = df.groupby(['seller_type'])['selling_price'].mean().reset_index().sort_values(by='selling_price',ascending=False)\n",
    "temp2.rename(columns={'selling_price':'selling_price_mean'},inplace=True)\n",
    "\n",
    "temp3 = df.groupby(['seller_type'])['selling_price'].count().reset_index().sort_values(by='selling_price',ascending=False)\n",
    "temp3.rename(columns={'selling_price':'no_of_cars'},inplace=True)\n",
    "\n",
    "temp2 = pd.merge(temp2,temp3,on='seller_type')\n",
    "temp = pd.merge(temp,temp2,on='seller_type')\n",
    "\n",
    "temp3 = df.groupby(['seller_type'])['selling_price'].max().reset_index().sort_values(by='selling_price',ascending=False)\n",
    "temp3.rename(columns={'selling_price':'max_selling_price'},inplace=True)\n",
    "\n",
    "temp2 = df.groupby(['seller_type'])['selling_price'].min().reset_index().sort_values(by='selling_price',ascending=False)\n",
    "temp2.rename(columns={'selling_price':'min_selling_price'},inplace=True)\n",
    "\n",
    "temp2 = pd.merge(temp2,temp3,on='seller_type')\n",
    "temp = pd.merge(temp,temp2,on='seller_type')\n",
    "\n",
    "temp['Selling_price_per_car'] = temp['selling_price_mean'] // temp['no_of_cars']\n",
    "\n",
    "del temp2\n",
    "del temp3"
   ]
  },
  {
   "cell_type": "code",
   "execution_count": 36,
   "metadata": {},
   "outputs": [
    {
     "data": {
      "text/html": [
       "<div>\n",
       "<style scoped>\n",
       "    .dataframe tbody tr th:only-of-type {\n",
       "        vertical-align: middle;\n",
       "    }\n",
       "\n",
       "    .dataframe tbody tr th {\n",
       "        vertical-align: top;\n",
       "    }\n",
       "\n",
       "    .dataframe thead th {\n",
       "        text-align: right;\n",
       "    }\n",
       "</style>\n",
       "<table border=\"1\" class=\"dataframe\">\n",
       "  <thead>\n",
       "    <tr style=\"text-align: right;\">\n",
       "      <th></th>\n",
       "      <th>seller_type</th>\n",
       "      <th>selling_price_median</th>\n",
       "      <th>selling_price_mean</th>\n",
       "      <th>no_of_cars</th>\n",
       "      <th>min_selling_price</th>\n",
       "      <th>max_selling_price</th>\n",
       "      <th>Selling_price_per_car</th>\n",
       "    </tr>\n",
       "  </thead>\n",
       "  <tbody>\n",
       "    <tr>\n",
       "      <th>0</th>\n",
       "      <td>Trustmark Dealer</td>\n",
       "      <td>650000</td>\n",
       "      <td>718111.111111</td>\n",
       "      <td>27</td>\n",
       "      <td>225000</td>\n",
       "      <td>2000000</td>\n",
       "      <td>26596.0</td>\n",
       "    </tr>\n",
       "    <tr>\n",
       "      <th>1</th>\n",
       "      <td>Dealer</td>\n",
       "      <td>625000</td>\n",
       "      <td>936708.656156</td>\n",
       "      <td>666</td>\n",
       "      <td>60000</td>\n",
       "      <td>6523000</td>\n",
       "      <td>1406.0</td>\n",
       "    </tr>\n",
       "    <tr>\n",
       "      <th>2</th>\n",
       "      <td>Individual</td>\n",
       "      <td>400000</td>\n",
       "      <td>480162.313579</td>\n",
       "      <td>6024</td>\n",
       "      <td>29999</td>\n",
       "      <td>10000000</td>\n",
       "      <td>79.0</td>\n",
       "    </tr>\n",
       "  </tbody>\n",
       "</table>\n",
       "</div>"
      ],
      "text/plain": [
       "        seller_type  selling_price_median  selling_price_mean  no_of_cars  \\\n",
       "0  Trustmark Dealer                650000       718111.111111          27   \n",
       "1            Dealer                625000       936708.656156         666   \n",
       "2        Individual                400000       480162.313579        6024   \n",
       "\n",
       "   min_selling_price  max_selling_price  Selling_price_per_car  \n",
       "0             225000            2000000                26596.0  \n",
       "1              60000            6523000                 1406.0  \n",
       "2              29999           10000000                   79.0  "
      ]
     },
     "execution_count": 36,
     "metadata": {},
     "output_type": "execute_result"
    }
   ],
   "source": [
    "temp.head()"
   ]
  },
  {
   "cell_type": "code",
   "execution_count": 37,
   "metadata": {},
   "outputs": [
    {
     "data": {
      "text/html": [
       "<div>\n",
       "<style scoped>\n",
       "    .dataframe tbody tr th:only-of-type {\n",
       "        vertical-align: middle;\n",
       "    }\n",
       "\n",
       "    .dataframe tbody tr th {\n",
       "        vertical-align: top;\n",
       "    }\n",
       "\n",
       "    .dataframe thead th {\n",
       "        text-align: right;\n",
       "    }\n",
       "</style>\n",
       "<table border=\"1\" class=\"dataframe\">\n",
       "  <thead>\n",
       "    <tr style=\"text-align: right;\">\n",
       "      <th></th>\n",
       "      <th>name</th>\n",
       "      <th>year</th>\n",
       "      <th>selling_price</th>\n",
       "      <th>km_driven</th>\n",
       "      <th>fuel</th>\n",
       "      <th>seller_type</th>\n",
       "      <th>transmission</th>\n",
       "      <th>owner</th>\n",
       "      <th>mileage</th>\n",
       "      <th>engine</th>\n",
       "      <th>max_power</th>\n",
       "      <th>torque</th>\n",
       "      <th>seats</th>\n",
       "    </tr>\n",
       "  </thead>\n",
       "  <tbody>\n",
       "    <tr>\n",
       "      <th>0</th>\n",
       "      <td>Maruti</td>\n",
       "      <td>2014</td>\n",
       "      <td>450000</td>\n",
       "      <td>145500</td>\n",
       "      <td>Diesel</td>\n",
       "      <td>Individual</td>\n",
       "      <td>Manual</td>\n",
       "      <td>First Owner</td>\n",
       "      <td>23.4 kmpl</td>\n",
       "      <td>1248 CC</td>\n",
       "      <td>74 bhp</td>\n",
       "      <td>190Nm@ 2000rpm</td>\n",
       "      <td>5.0</td>\n",
       "    </tr>\n",
       "    <tr>\n",
       "      <th>1</th>\n",
       "      <td>Skoda</td>\n",
       "      <td>2014</td>\n",
       "      <td>370000</td>\n",
       "      <td>120000</td>\n",
       "      <td>Diesel</td>\n",
       "      <td>Individual</td>\n",
       "      <td>Manual</td>\n",
       "      <td>Second Owner</td>\n",
       "      <td>21.14 kmpl</td>\n",
       "      <td>1498 CC</td>\n",
       "      <td>103.52 bhp</td>\n",
       "      <td>250Nm@ 1500-2500rpm</td>\n",
       "      <td>5.0</td>\n",
       "    </tr>\n",
       "    <tr>\n",
       "      <th>2</th>\n",
       "      <td>Honda</td>\n",
       "      <td>2006</td>\n",
       "      <td>158000</td>\n",
       "      <td>140000</td>\n",
       "      <td>Petrol</td>\n",
       "      <td>Individual</td>\n",
       "      <td>Manual</td>\n",
       "      <td>Third Owner</td>\n",
       "      <td>17.7 kmpl</td>\n",
       "      <td>1497 CC</td>\n",
       "      <td>78 bhp</td>\n",
       "      <td>12.7@ 2,700(kgm@ rpm)</td>\n",
       "      <td>5.0</td>\n",
       "    </tr>\n",
       "    <tr>\n",
       "      <th>3</th>\n",
       "      <td>Hyundai</td>\n",
       "      <td>2010</td>\n",
       "      <td>225000</td>\n",
       "      <td>127000</td>\n",
       "      <td>Diesel</td>\n",
       "      <td>Individual</td>\n",
       "      <td>Manual</td>\n",
       "      <td>First Owner</td>\n",
       "      <td>23.0 kmpl</td>\n",
       "      <td>1396 CC</td>\n",
       "      <td>90 bhp</td>\n",
       "      <td>22.4 kgm at 1750-2750rpm</td>\n",
       "      <td>5.0</td>\n",
       "    </tr>\n",
       "    <tr>\n",
       "      <th>4</th>\n",
       "      <td>Maruti</td>\n",
       "      <td>2007</td>\n",
       "      <td>130000</td>\n",
       "      <td>120000</td>\n",
       "      <td>Petrol</td>\n",
       "      <td>Individual</td>\n",
       "      <td>Manual</td>\n",
       "      <td>First Owner</td>\n",
       "      <td>16.1 kmpl</td>\n",
       "      <td>1298 CC</td>\n",
       "      <td>88.2 bhp</td>\n",
       "      <td>11.5@ 4,500(kgm@ rpm)</td>\n",
       "      <td>5.0</td>\n",
       "    </tr>\n",
       "  </tbody>\n",
       "</table>\n",
       "</div>"
      ],
      "text/plain": [
       "      name  year  selling_price  km_driven    fuel seller_type transmission  \\\n",
       "0   Maruti  2014         450000     145500  Diesel  Individual       Manual   \n",
       "1    Skoda  2014         370000     120000  Diesel  Individual       Manual   \n",
       "2    Honda  2006         158000     140000  Petrol  Individual       Manual   \n",
       "3  Hyundai  2010         225000     127000  Diesel  Individual       Manual   \n",
       "4   Maruti  2007         130000     120000  Petrol  Individual       Manual   \n",
       "\n",
       "          owner     mileage   engine   max_power                    torque  \\\n",
       "0   First Owner   23.4 kmpl  1248 CC      74 bhp            190Nm@ 2000rpm   \n",
       "1  Second Owner  21.14 kmpl  1498 CC  103.52 bhp       250Nm@ 1500-2500rpm   \n",
       "2   Third Owner   17.7 kmpl  1497 CC      78 bhp     12.7@ 2,700(kgm@ rpm)   \n",
       "3   First Owner   23.0 kmpl  1396 CC      90 bhp  22.4 kgm at 1750-2750rpm   \n",
       "4   First Owner   16.1 kmpl  1298 CC    88.2 bhp     11.5@ 4,500(kgm@ rpm)   \n",
       "\n",
       "   seats  \n",
       "0    5.0  \n",
       "1    5.0  \n",
       "2    5.0  \n",
       "3    5.0  \n",
       "4    5.0  "
      ]
     },
     "execution_count": 37,
     "metadata": {},
     "output_type": "execute_result"
    }
   ],
   "source": [
    "df.head()"
   ]
  },
  {
   "cell_type": "markdown",
   "metadata": {},
   "source": [
    "<h5>Analyzing transmission column</h5>"
   ]
  },
  {
   "cell_type": "code",
   "execution_count": 38,
   "metadata": {},
   "outputs": [
    {
     "name": "stdout",
     "output_type": "stream",
     "text": [
      "Number of Unique transmission : 2\n",
      "% of data having unique transmission : 0.02977519726068185\n",
      "***************************************************\n",
      "Manual       6142\n",
      "Automatic     575\n",
      "Name: transmission, dtype: int64\n"
     ]
    }
   ],
   "source": [
    "unique_transmission = df['transmission'].value_counts()\n",
    "print('Number of Unique transmission :', unique_transmission.shape[0])\n",
    "print('% of data having unique transmission :',unique_transmission.shape[0]/df.shape[0]*100)\n",
    "print('***************************************************')\n",
    "print(unique_transmission.head(10))"
   ]
  },
  {
   "cell_type": "code",
   "execution_count": 39,
   "metadata": {},
   "outputs": [
    {
     "data": {
      "image/png": "[encoded data removed]",
      "text/plain": [
       "<Figure size 1080x360 with 1 Axes>"
      ]
     },
     "metadata": {
      "needs_background": "light"
     },
     "output_type": "display_data"
    }
   ],
   "source": [
    "plt.figure(figsize=(15,5))\n",
    "sns.countplot(x='transmission', order=unique_transmission.index.tolist(),data=df)\n",
    "plt.xticks(rotation=90)\n",
    "plt.show()"
   ]
  },
  {
   "cell_type": "code",
   "execution_count": 40,
   "metadata": {},
   "outputs": [
    {
     "data": {
      "image/png": "[encoded data removed]",
      "text/plain": [
       "<Figure size 1296x360 with 1 Axes>"
      ]
     },
     "metadata": {
      "needs_background": "light"
     },
     "output_type": "display_data"
    }
   ],
   "source": [
    "temp = df.groupby(['transmission'])['selling_price'].median().reset_index().sort_values(by='selling_price',ascending=False)\n",
    "temp.rename(columns={'selling_price':'selling_price_median'},inplace=True)\n",
    "\n",
    "plt.figure(figsize=(18,5))\n",
    "sns.boxplot(y='selling_price',x='transmission',data=pd.merge(temp,df,on='transmission'),order=temp['transmission'].unique().tolist()[:30])\n",
    "plt.xticks(rotation=90)\n",
    "plt.show()"
   ]
  },
  {
   "cell_type": "code",
   "execution_count": 41,
   "metadata": {},
   "outputs": [],
   "source": [
    "temp2 = df.groupby(['transmission'])['selling_price'].mean().reset_index().sort_values(by='selling_price',ascending=False)\n",
    "temp2.rename(columns={'selling_price':'selling_price_mean'},inplace=True)\n",
    "\n",
    "temp3 = df.groupby(['transmission'])['selling_price'].count().reset_index().sort_values(by='selling_price',ascending=False)\n",
    "temp3.rename(columns={'selling_price':'no_of_cars'},inplace=True)\n",
    "\n",
    "temp2 = pd.merge(temp2,temp3,on='transmission')\n",
    "temp = pd.merge(temp,temp2,on='transmission')\n",
    "\n",
    "temp3 = df.groupby(['transmission'])['selling_price'].max().reset_index().sort_values(by='selling_price',ascending=False)\n",
    "temp3.rename(columns={'selling_price':'max_selling_price'},inplace=True)\n",
    "\n",
    "temp2 = df.groupby(['transmission'])['selling_price'].min().reset_index().sort_values(by='selling_price',ascending=False)\n",
    "temp2.rename(columns={'selling_price':'min_selling_price'},inplace=True)\n",
    "\n",
    "temp2 = pd.merge(temp2,temp3,on='transmission')\n",
    "temp = pd.merge(temp,temp2,on='transmission')\n",
    "\n",
    "temp['Selling_price_per_car'] = temp['selling_price_mean'] // temp['no_of_cars']\n",
    "\n",
    "del temp2\n",
    "del temp3"
   ]
  },
  {
   "cell_type": "code",
   "execution_count": 42,
   "metadata": {},
   "outputs": [
    {
     "data": {
      "text/html": [
       "<div>\n",
       "<style scoped>\n",
       "    .dataframe tbody tr th:only-of-type {\n",
       "        vertical-align: middle;\n",
       "    }\n",
       "\n",
       "    .dataframe tbody tr th {\n",
       "        vertical-align: top;\n",
       "    }\n",
       "\n",
       "    .dataframe thead th {\n",
       "        text-align: right;\n",
       "    }\n",
       "</style>\n",
       "<table border=\"1\" class=\"dataframe\">\n",
       "  <thead>\n",
       "    <tr style=\"text-align: right;\">\n",
       "      <th></th>\n",
       "      <th>transmission</th>\n",
       "      <th>selling_price_median</th>\n",
       "      <th>selling_price_mean</th>\n",
       "      <th>no_of_cars</th>\n",
       "      <th>min_selling_price</th>\n",
       "      <th>max_selling_price</th>\n",
       "      <th>Selling_price_per_car</th>\n",
       "    </tr>\n",
       "  </thead>\n",
       "  <tbody>\n",
       "    <tr>\n",
       "      <th>0</th>\n",
       "      <td>Automatic</td>\n",
       "      <td>850000</td>\n",
       "      <td>1.322916e+06</td>\n",
       "      <td>575</td>\n",
       "      <td>75000</td>\n",
       "      <td>10000000</td>\n",
       "      <td>2300.0</td>\n",
       "    </tr>\n",
       "    <tr>\n",
       "      <th>1</th>\n",
       "      <td>Manual</td>\n",
       "      <td>400000</td>\n",
       "      <td>4.518166e+05</td>\n",
       "      <td>6142</td>\n",
       "      <td>29999</td>\n",
       "      <td>3200000</td>\n",
       "      <td>73.0</td>\n",
       "    </tr>\n",
       "  </tbody>\n",
       "</table>\n",
       "</div>"
      ],
      "text/plain": [
       "  transmission  selling_price_median  selling_price_mean  no_of_cars  \\\n",
       "0    Automatic                850000        1.322916e+06         575   \n",
       "1       Manual                400000        4.518166e+05        6142   \n",
       "\n",
       "   min_selling_price  max_selling_price  Selling_price_per_car  \n",
       "0              75000           10000000                 2300.0  \n",
       "1              29999            3200000                   73.0  "
      ]
     },
     "execution_count": 42,
     "metadata": {},
     "output_type": "execute_result"
    }
   ],
   "source": [
    "temp.head()"
   ]
  },
  {
   "cell_type": "markdown",
   "metadata": {},
   "source": [
    "<h5>Analyzing owner column</h5>"
   ]
  },
  {
   "cell_type": "code",
   "execution_count": 43,
   "metadata": {},
   "outputs": [
    {
     "name": "stdout",
     "output_type": "stream",
     "text": [
      "Number of Unique owner : 5\n",
      "% of data having unique owner : 0.07443799315170463\n",
      "***************************************************\n",
      "First Owner             4176\n",
      "Second Owner            1888\n",
      "Third Owner              493\n",
      "Fourth & Above Owner     155\n",
      "Test Drive Car             5\n",
      "Name: owner, dtype: int64\n"
     ]
    }
   ],
   "source": [
    "unique_owner = df['owner'].value_counts()\n",
    "print('Number of Unique owner :', unique_owner.shape[0])\n",
    "print('% of data having unique owner :',unique_owner.shape[0]/df.shape[0]*100)\n",
    "print('***************************************************')\n",
    "print(unique_owner.head(10))"
   ]
  },
  {
   "cell_type": "code",
   "execution_count": 44,
   "metadata": {},
   "outputs": [
    {
     "data": {
      "image/png": "[encoded data removed]",
      "text/plain": [
       "<Figure size 1080x360 with 1 Axes>"
      ]
     },
     "metadata": {
      "needs_background": "light"
     },
     "output_type": "display_data"
    }
   ],
   "source": [
    "plt.figure(figsize=(15,5))\n",
    "sns.countplot(x='owner', order=unique_owner.index.tolist(),data=df)\n",
    "plt.xticks(rotation=90)\n",
    "plt.show()"
   ]
  },
  {
   "cell_type": "code",
   "execution_count": 45,
   "metadata": {},
   "outputs": [
    {
     "data": {
      "image/png": "[encoded data removed]",
      "text/plain": [
       "<Figure size 1296x360 with 1 Axes>"
      ]
     },
     "metadata": {
      "needs_background": "light"
     },
     "output_type": "display_data"
    }
   ],
   "source": [
    "temp = df.groupby(['owner'])['selling_price'].median().reset_index().sort_values(by='selling_price',ascending=False)\n",
    "temp.rename(columns={'selling_price':'selling_price_median'},inplace=True)\n",
    "\n",
    "plt.figure(figsize=(18,5))\n",
    "sns.boxplot(y='selling_price',x='owner',data=pd.merge(temp,df,on='owner'),order=temp['owner'].unique().tolist()[:30])\n",
    "plt.xticks(rotation=90)\n",
    "plt.show()"
   ]
  },
  {
   "cell_type": "code",
   "execution_count": 46,
   "metadata": {},
   "outputs": [],
   "source": [
    "temp2 = df.groupby(['owner'])['selling_price'].mean().reset_index().sort_values(by='selling_price',ascending=False)\n",
    "temp2.rename(columns={'selling_price':'selling_price_mean'},inplace=True)\n",
    "\n",
    "temp3 = df.groupby(['owner'])['selling_price'].count().reset_index().sort_values(by='selling_price',ascending=False)\n",
    "temp3.rename(columns={'selling_price':'no_of_cars'},inplace=True)\n",
    "\n",
    "temp2 = pd.merge(temp2,temp3,on='owner')\n",
    "temp = pd.merge(temp,temp2,on='owner')\n",
    "\n",
    "temp3 = df.groupby(['owner'])['selling_price'].max().reset_index().sort_values(by='selling_price',ascending=False)\n",
    "temp3.rename(columns={'selling_price':'max_selling_price'},inplace=True)\n",
    "\n",
    "temp2 = df.groupby(['owner'])['selling_price'].min().reset_index().sort_values(by='selling_price',ascending=False)\n",
    "temp2.rename(columns={'selling_price':'min_selling_price'},inplace=True)\n",
    "\n",
    "temp2 = pd.merge(temp2,temp3,on='owner')\n",
    "temp = pd.merge(temp,temp2,on='owner')\n",
    "\n",
    "temp['Selling_price_per_car'] = temp['selling_price_mean'] // temp['no_of_cars']\n",
    "\n",
    "del temp2\n",
    "del temp3"
   ]
  },
  {
   "cell_type": "code",
   "execution_count": 47,
   "metadata": {},
   "outputs": [
    {
     "data": {
      "text/html": [
       "<div>\n",
       "<style scoped>\n",
       "    .dataframe tbody tr th:only-of-type {\n",
       "        vertical-align: middle;\n",
       "    }\n",
       "\n",
       "    .dataframe tbody tr th {\n",
       "        vertical-align: top;\n",
       "    }\n",
       "\n",
       "    .dataframe thead th {\n",
       "        text-align: right;\n",
       "    }\n",
       "</style>\n",
       "<table border=\"1\" class=\"dataframe\">\n",
       "  <thead>\n",
       "    <tr style=\"text-align: right;\">\n",
       "      <th></th>\n",
       "      <th>owner</th>\n",
       "      <th>selling_price_median</th>\n",
       "      <th>selling_price_mean</th>\n",
       "      <th>no_of_cars</th>\n",
       "      <th>min_selling_price</th>\n",
       "      <th>max_selling_price</th>\n",
       "      <th>Selling_price_per_car</th>\n",
       "    </tr>\n",
       "  </thead>\n",
       "  <tbody>\n",
       "    <tr>\n",
       "      <th>0</th>\n",
       "      <td>Test Drive Car</td>\n",
       "      <td>5923000</td>\n",
       "      <td>4.403800e+06</td>\n",
       "      <td>5</td>\n",
       "      <td>1350000</td>\n",
       "      <td>6523000</td>\n",
       "      <td>880760.0</td>\n",
       "    </tr>\n",
       "    <tr>\n",
       "      <th>1</th>\n",
       "      <td>First Owner</td>\n",
       "      <td>500000</td>\n",
       "      <td>6.205114e+05</td>\n",
       "      <td>4176</td>\n",
       "      <td>30000</td>\n",
       "      <td>10000000</td>\n",
       "      <td>148.0</td>\n",
       "    </tr>\n",
       "    <tr>\n",
       "      <th>2</th>\n",
       "      <td>Second Owner</td>\n",
       "      <td>320000</td>\n",
       "      <td>3.938863e+05</td>\n",
       "      <td>1888</td>\n",
       "      <td>35000</td>\n",
       "      <td>3000000</td>\n",
       "      <td>208.0</td>\n",
       "    </tr>\n",
       "    <tr>\n",
       "      <th>3</th>\n",
       "      <td>Third Owner</td>\n",
       "      <td>229999</td>\n",
       "      <td>2.897515e+05</td>\n",
       "      <td>493</td>\n",
       "      <td>29999</td>\n",
       "      <td>2000000</td>\n",
       "      <td>587.0</td>\n",
       "    </tr>\n",
       "    <tr>\n",
       "      <th>4</th>\n",
       "      <td>Fourth &amp; Above Owner</td>\n",
       "      <td>185000</td>\n",
       "      <td>2.319709e+05</td>\n",
       "      <td>155</td>\n",
       "      <td>31000</td>\n",
       "      <td>810000</td>\n",
       "      <td>1496.0</td>\n",
       "    </tr>\n",
       "  </tbody>\n",
       "</table>\n",
       "</div>"
      ],
      "text/plain": [
       "                  owner  selling_price_median  selling_price_mean  no_of_cars  \\\n",
       "0        Test Drive Car               5923000        4.403800e+06           5   \n",
       "1           First Owner                500000        6.205114e+05        4176   \n",
       "2          Second Owner                320000        3.938863e+05        1888   \n",
       "3           Third Owner                229999        2.897515e+05         493   \n",
       "4  Fourth & Above Owner                185000        2.319709e+05         155   \n",
       "\n",
       "   min_selling_price  max_selling_price  Selling_price_per_car  \n",
       "0            1350000            6523000               880760.0  \n",
       "1              30000           10000000                  148.0  \n",
       "2              35000            3000000                  208.0  \n",
       "3              29999            2000000                  587.0  \n",
       "4              31000             810000                 1496.0  "
      ]
     },
     "execution_count": 47,
     "metadata": {},
     "output_type": "execute_result"
    }
   ],
   "source": [
    "temp.head()"
   ]
  },
  {
   "cell_type": "markdown",
   "metadata": {},
   "source": [
    "<h5>Analyzing number of seats column</h5>"
   ]
  },
  {
   "cell_type": "code",
   "execution_count": 48,
   "metadata": {},
   "outputs": [
    {
     "name": "stdout",
     "output_type": "stream",
     "text": [
      "Number of Unique seats : 9\n",
      "% of data having unique seats : 0.13398838767306834\n",
      "***************************************************\n",
      "5.0     5254\n",
      "7.0      966\n",
      "8.0      221\n",
      "4.0      124\n",
      "9.0       74\n",
      "6.0       57\n",
      "10.0      18\n",
      "2.0        2\n",
      "14.0       1\n",
      "Name: seats, dtype: int64\n"
     ]
    }
   ],
   "source": [
    "unique_seats = df['seats'].value_counts()\n",
    "print('Number of Unique seats :', unique_seats.shape[0])\n",
    "print('% of data having unique seats :',unique_seats.shape[0]/df.shape[0]*100)\n",
    "print('***************************************************')\n",
    "print(unique_seats.head(10))"
   ]
  },
  {
   "cell_type": "code",
   "execution_count": 49,
   "metadata": {},
   "outputs": [
    {
     "data": {
      "image/png": "[encoded data removed]",
      "text/plain": [
       "<Figure size 1080x360 with 1 Axes>"
      ]
     },
     "metadata": {
      "needs_background": "light"
     },
     "output_type": "display_data"
    }
   ],
   "source": [
    "plt.figure(figsize=(15,5))\n",
    "sns.countplot(x='seats', order=unique_seats.index.tolist(),data=df)\n",
    "plt.xticks(rotation=90)\n",
    "plt.show()"
   ]
  },
  {
   "cell_type": "code",
   "execution_count": 50,
   "metadata": {},
   "outputs": [
    {
     "data": {
      "image/png": "[encoded data removed]",
      "text/plain": [
       "<Figure size 1296x360 with 1 Axes>"
      ]
     },
     "metadata": {
      "needs_background": "light"
     },
     "output_type": "display_data"
    }
   ],
   "source": [
    "temp = df.groupby(['seats'])['selling_price'].median().reset_index().sort_values(by='selling_price',ascending=False)\n",
    "temp.rename(columns={'selling_price':'selling_price_median'},inplace=True)\n",
    "\n",
    "plt.figure(figsize=(18,5))\n",
    "sns.boxplot(y='selling_price',x='seats',data=pd.merge(temp,df,on='seats'),order=temp['seats'].unique().tolist()[:30])\n",
    "plt.xticks(rotation=90)\n",
    "plt.show()"
   ]
  },
  {
   "cell_type": "code",
   "execution_count": 51,
   "metadata": {},
   "outputs": [],
   "source": [
    "temp2 = df.groupby(['seats'])['selling_price'].mean().reset_index().sort_values(by='selling_price',ascending=False)\n",
    "temp2.rename(columns={'selling_price':'selling_price_mean'},inplace=True)\n",
    "\n",
    "temp3 = df.groupby(['seats'])['selling_price'].count().reset_index().sort_values(by='selling_price',ascending=False)\n",
    "temp3.rename(columns={'selling_price':'no_of_cars'},inplace=True)\n",
    "\n",
    "temp2 = pd.merge(temp2,temp3,on='seats')\n",
    "temp = pd.merge(temp,temp2,on='seats')\n",
    "\n",
    "temp3 = df.groupby(['seats'])['selling_price'].max().reset_index().sort_values(by='selling_price',ascending=False)\n",
    "temp3.rename(columns={'selling_price':'max_selling_price'},inplace=True)\n",
    "\n",
    "temp2 = df.groupby(['seats'])['selling_price'].min().reset_index().sort_values(by='selling_price',ascending=False)\n",
    "temp2.rename(columns={'selling_price':'min_selling_price'},inplace=True)\n",
    "\n",
    "temp2 = pd.merge(temp2,temp3,on='seats')\n",
    "temp = pd.merge(temp,temp2,on='seats')\n",
    "\n",
    "temp['Selling_price_per_car'] = temp['selling_price_mean'] // temp['no_of_cars']\n",
    "\n",
    "del temp2\n",
    "del temp3"
   ]
  },
  {
   "cell_type": "code",
   "execution_count": 52,
   "metadata": {},
   "outputs": [
    {
     "data": {
      "text/html": [
       "<div>\n",
       "<style scoped>\n",
       "    .dataframe tbody tr th:only-of-type {\n",
       "        vertical-align: middle;\n",
       "    }\n",
       "\n",
       "    .dataframe tbody tr th {\n",
       "        vertical-align: top;\n",
       "    }\n",
       "\n",
       "    .dataframe thead th {\n",
       "        text-align: right;\n",
       "    }\n",
       "</style>\n",
       "<table border=\"1\" class=\"dataframe\">\n",
       "  <thead>\n",
       "    <tr style=\"text-align: right;\">\n",
       "      <th></th>\n",
       "      <th>seats</th>\n",
       "      <th>selling_price_median</th>\n",
       "      <th>selling_price_mean</th>\n",
       "      <th>no_of_cars</th>\n",
       "      <th>min_selling_price</th>\n",
       "      <th>max_selling_price</th>\n",
       "      <th>Selling_price_per_car</th>\n",
       "    </tr>\n",
       "  </thead>\n",
       "  <tbody>\n",
       "    <tr>\n",
       "      <th>0</th>\n",
       "      <td>2.0</td>\n",
       "      <td>700500.0</td>\n",
       "      <td>700500.000000</td>\n",
       "      <td>2</td>\n",
       "      <td>679000</td>\n",
       "      <td>722000</td>\n",
       "      <td>350250.0</td>\n",
       "    </tr>\n",
       "    <tr>\n",
       "      <th>1</th>\n",
       "      <td>7.0</td>\n",
       "      <td>675000.0</td>\n",
       "      <td>798927.504141</td>\n",
       "      <td>966</td>\n",
       "      <td>95000</td>\n",
       "      <td>7200000</td>\n",
       "      <td>827.0</td>\n",
       "    </tr>\n",
       "    <tr>\n",
       "      <th>2</th>\n",
       "      <td>9.0</td>\n",
       "      <td>504999.5</td>\n",
       "      <td>503540.472973</td>\n",
       "      <td>74</td>\n",
       "      <td>150000</td>\n",
       "      <td>999000</td>\n",
       "      <td>6804.0</td>\n",
       "    </tr>\n",
       "    <tr>\n",
       "      <th>3</th>\n",
       "      <td>8.0</td>\n",
       "      <td>500000.0</td>\n",
       "      <td>572832.538462</td>\n",
       "      <td>221</td>\n",
       "      <td>80000</td>\n",
       "      <td>2064000</td>\n",
       "      <td>2592.0</td>\n",
       "    </tr>\n",
       "    <tr>\n",
       "      <th>4</th>\n",
       "      <td>6.0</td>\n",
       "      <td>480000.0</td>\n",
       "      <td>560684.210526</td>\n",
       "      <td>57</td>\n",
       "      <td>280000</td>\n",
       "      <td>1040000</td>\n",
       "      <td>9836.0</td>\n",
       "    </tr>\n",
       "  </tbody>\n",
       "</table>\n",
       "</div>"
      ],
      "text/plain": [
       "   seats  selling_price_median  selling_price_mean  no_of_cars  \\\n",
       "0    2.0              700500.0       700500.000000           2   \n",
       "1    7.0              675000.0       798927.504141         966   \n",
       "2    9.0              504999.5       503540.472973          74   \n",
       "3    8.0              500000.0       572832.538462         221   \n",
       "4    6.0              480000.0       560684.210526          57   \n",
       "\n",
       "   min_selling_price  max_selling_price  Selling_price_per_car  \n",
       "0             679000             722000               350250.0  \n",
       "1              95000            7200000                  827.0  \n",
       "2             150000             999000                 6804.0  \n",
       "3              80000            2064000                 2592.0  \n",
       "4             280000            1040000                 9836.0  "
      ]
     },
     "execution_count": 52,
     "metadata": {},
     "output_type": "execute_result"
    }
   ],
   "source": [
    "temp.head()"
   ]
  },
  {
   "cell_type": "markdown",
   "metadata": {},
   "source": [
    "<h5>Analyzing year column</h5>"
   ]
  },
  {
   "cell_type": "code",
   "execution_count": 53,
   "metadata": {},
   "outputs": [
    {
     "name": "stdout",
     "output_type": "stream",
     "text": [
      "Number of Unique year : 27\n",
      "% of data having unique year : 0.40196516301920504\n",
      "***************************************************\n",
      "2017    802\n",
      "2016    691\n",
      "2015    680\n",
      "2018    607\n",
      "2014    580\n",
      "2012    576\n",
      "2013    560\n",
      "2011    535\n",
      "2010    361\n",
      "2019    347\n",
      "Name: year, dtype: int64\n"
     ]
    }
   ],
   "source": [
    "unique_year = df['year'].value_counts()\n",
    "print('Number of Unique year :', unique_year.shape[0])\n",
    "print('% of data having unique year :',unique_year.shape[0]/df.shape[0]*100)\n",
    "print('***************************************************')\n",
    "print(unique_year.head(10))"
   ]
  },
  {
   "cell_type": "code",
   "execution_count": 54,
   "metadata": {},
   "outputs": [
    {
     "data": {
      "image/png": "[encoded data removed]",
      "text/plain": [
       "<Figure size 1296x360 with 1 Axes>"
      ]
     },
     "metadata": {
      "needs_background": "light"
     },
     "output_type": "display_data"
    }
   ],
   "source": [
    "temp = df.groupby(['year'])['selling_price'].median().reset_index().sort_values(by='selling_price',ascending=False)\n",
    "temp.rename(columns={'selling_price':'selling_price_median'},inplace=True)\n",
    "\n",
    "plt.figure(figsize=(18,5))\n",
    "sns.boxplot(y='selling_price',x='year',data=pd.merge(temp,df,on='year'),order=temp['year'].unique().tolist()[:30])\n",
    "plt.xticks(rotation=90)\n",
    "plt.show()"
   ]
  },
  {
   "cell_type": "code",
   "execution_count": 55,
   "metadata": {},
   "outputs": [],
   "source": [
    "temp2 = df.groupby(['year'])['selling_price'].mean().reset_index().sort_values(by='selling_price',ascending=False)\n",
    "temp2.rename(columns={'selling_price':'selling_price_mean'},inplace=True)\n",
    "\n",
    "temp3 = df.groupby(['year'])['selling_price'].count().reset_index().sort_values(by='selling_price',ascending=False)\n",
    "temp3.rename(columns={'selling_price':'no_of_cars'},inplace=True)\n",
    "\n",
    "temp2 = pd.merge(temp2,temp3,on='year')\n",
    "temp = pd.merge(temp,temp2,on='year')\n",
    "\n",
    "temp3 = df.groupby(['year'])['selling_price'].max().reset_index().sort_values(by='selling_price',ascending=False)\n",
    "temp3.rename(columns={'selling_price':'max_selling_price'},inplace=True)\n",
    "\n",
    "temp2 = df.groupby(['year'])['selling_price'].min().reset_index().sort_values(by='selling_price',ascending=False)\n",
    "temp2.rename(columns={'selling_price':'min_selling_price'},inplace=True)\n",
    "\n",
    "temp2 = pd.merge(temp2,temp3,on='year')\n",
    "temp = pd.merge(temp,temp2,on='year')\n",
    "\n",
    "temp['Selling_price_per_car'] = temp['selling_price_mean'] // temp['no_of_cars']\n",
    "\n",
    "del temp2\n",
    "del temp3"
   ]
  },
  {
   "cell_type": "code",
   "execution_count": 56,
   "metadata": {},
   "outputs": [
    {
     "data": {
      "text/html": [
       "<div>\n",
       "<style scoped>\n",
       "    .dataframe tbody tr th:only-of-type {\n",
       "        vertical-align: middle;\n",
       "    }\n",
       "\n",
       "    .dataframe tbody tr th {\n",
       "        vertical-align: top;\n",
       "    }\n",
       "\n",
       "    .dataframe thead th {\n",
       "        text-align: right;\n",
       "    }\n",
       "</style>\n",
       "<table border=\"1\" class=\"dataframe\">\n",
       "  <thead>\n",
       "    <tr style=\"text-align: right;\">\n",
       "      <th></th>\n",
       "      <th>year</th>\n",
       "      <th>selling_price_median</th>\n",
       "      <th>selling_price_mean</th>\n",
       "      <th>no_of_cars</th>\n",
       "      <th>min_selling_price</th>\n",
       "      <th>max_selling_price</th>\n",
       "      <th>Selling_price_per_car</th>\n",
       "    </tr>\n",
       "  </thead>\n",
       "  <tbody>\n",
       "    <tr>\n",
       "      <th>0</th>\n",
       "      <td>2018</td>\n",
       "      <td>700000</td>\n",
       "      <td>866775.915980</td>\n",
       "      <td>607</td>\n",
       "      <td>200000</td>\n",
       "      <td>6000000</td>\n",
       "      <td>1427.0</td>\n",
       "    </tr>\n",
       "    <tr>\n",
       "      <th>1</th>\n",
       "      <td>2019</td>\n",
       "      <td>693000</td>\n",
       "      <td>949668.547550</td>\n",
       "      <td>347</td>\n",
       "      <td>220000</td>\n",
       "      <td>6523000</td>\n",
       "      <td>2736.0</td>\n",
       "    </tr>\n",
       "    <tr>\n",
       "      <th>2</th>\n",
       "      <td>2017</td>\n",
       "      <td>625000</td>\n",
       "      <td>731609.688279</td>\n",
       "      <td>802</td>\n",
       "      <td>66000</td>\n",
       "      <td>10000000</td>\n",
       "      <td>912.0</td>\n",
       "    </tr>\n",
       "    <tr>\n",
       "      <th>3</th>\n",
       "      <td>2020</td>\n",
       "      <td>600000</td>\n",
       "      <td>888349.158730</td>\n",
       "      <td>63</td>\n",
       "      <td>250000</td>\n",
       "      <td>7200000</td>\n",
       "      <td>14100.0</td>\n",
       "    </tr>\n",
       "    <tr>\n",
       "      <th>4</th>\n",
       "      <td>2016</td>\n",
       "      <td>550000</td>\n",
       "      <td>653392.149059</td>\n",
       "      <td>691</td>\n",
       "      <td>150000</td>\n",
       "      <td>4090000</td>\n",
       "      <td>945.0</td>\n",
       "    </tr>\n",
       "  </tbody>\n",
       "</table>\n",
       "</div>"
      ],
      "text/plain": [
       "   year  selling_price_median  selling_price_mean  no_of_cars  \\\n",
       "0  2018                700000       866775.915980         607   \n",
       "1  2019                693000       949668.547550         347   \n",
       "2  2017                625000       731609.688279         802   \n",
       "3  2020                600000       888349.158730          63   \n",
       "4  2016                550000       653392.149059         691   \n",
       "\n",
       "   min_selling_price  max_selling_price  Selling_price_per_car  \n",
       "0             200000            6000000                 1427.0  \n",
       "1             220000            6523000                 2736.0  \n",
       "2              66000           10000000                  912.0  \n",
       "3             250000            7200000                14100.0  \n",
       "4             150000            4090000                  945.0  "
      ]
     },
     "execution_count": 56,
     "metadata": {},
     "output_type": "execute_result"
    }
   ],
   "source": [
    "temp.head()"
   ]
  },
  {
   "cell_type": "code",
   "execution_count": 57,
   "metadata": {},
   "outputs": [
    {
     "data": {
      "text/html": [
       "<div>\n",
       "<style scoped>\n",
       "    .dataframe tbody tr th:only-of-type {\n",
       "        vertical-align: middle;\n",
       "    }\n",
       "\n",
       "    .dataframe tbody tr th {\n",
       "        vertical-align: top;\n",
       "    }\n",
       "\n",
       "    .dataframe thead th {\n",
       "        text-align: right;\n",
       "    }\n",
       "</style>\n",
       "<table border=\"1\" class=\"dataframe\">\n",
       "  <thead>\n",
       "    <tr style=\"text-align: right;\">\n",
       "      <th></th>\n",
       "      <th>year</th>\n",
       "      <th>selling_price_median</th>\n",
       "      <th>selling_price_mean</th>\n",
       "      <th>no_of_cars</th>\n",
       "      <th>min_selling_price</th>\n",
       "      <th>max_selling_price</th>\n",
       "      <th>Selling_price_per_car</th>\n",
       "    </tr>\n",
       "  </thead>\n",
       "  <tbody>\n",
       "    <tr>\n",
       "      <th>2</th>\n",
       "      <td>2017</td>\n",
       "      <td>625000</td>\n",
       "      <td>731609.688279</td>\n",
       "      <td>802</td>\n",
       "      <td>66000</td>\n",
       "      <td>10000000</td>\n",
       "      <td>912.0</td>\n",
       "    </tr>\n",
       "    <tr>\n",
       "      <th>4</th>\n",
       "      <td>2016</td>\n",
       "      <td>550000</td>\n",
       "      <td>653392.149059</td>\n",
       "      <td>691</td>\n",
       "      <td>150000</td>\n",
       "      <td>4090000</td>\n",
       "      <td>945.0</td>\n",
       "    </tr>\n",
       "    <tr>\n",
       "      <th>5</th>\n",
       "      <td>2015</td>\n",
       "      <td>527500</td>\n",
       "      <td>589345.533824</td>\n",
       "      <td>680</td>\n",
       "      <td>80000</td>\n",
       "      <td>3000000</td>\n",
       "      <td>866.0</td>\n",
       "    </tr>\n",
       "    <tr>\n",
       "      <th>0</th>\n",
       "      <td>2018</td>\n",
       "      <td>700000</td>\n",
       "      <td>866775.915980</td>\n",
       "      <td>607</td>\n",
       "      <td>200000</td>\n",
       "      <td>6000000</td>\n",
       "      <td>1427.0</td>\n",
       "    </tr>\n",
       "    <tr>\n",
       "      <th>6</th>\n",
       "      <td>2014</td>\n",
       "      <td>450000</td>\n",
       "      <td>512367.175862</td>\n",
       "      <td>580</td>\n",
       "      <td>95000</td>\n",
       "      <td>3500000</td>\n",
       "      <td>883.0</td>\n",
       "    </tr>\n",
       "  </tbody>\n",
       "</table>\n",
       "</div>"
      ],
      "text/plain": [
       "   year  selling_price_median  selling_price_mean  no_of_cars  \\\n",
       "2  2017                625000       731609.688279         802   \n",
       "4  2016                550000       653392.149059         691   \n",
       "5  2015                527500       589345.533824         680   \n",
       "0  2018                700000       866775.915980         607   \n",
       "6  2014                450000       512367.175862         580   \n",
       "\n",
       "   min_selling_price  max_selling_price  Selling_price_per_car  \n",
       "2              66000           10000000                  912.0  \n",
       "4             150000            4090000                  945.0  \n",
       "5              80000            3000000                  866.0  \n",
       "0             200000            6000000                 1427.0  \n",
       "6              95000            3500000                  883.0  "
      ]
     },
     "execution_count": 57,
     "metadata": {},
     "output_type": "execute_result"
    }
   ],
   "source": [
    "temp.sort_values(by='no_of_cars',ascending=False).head()"
   ]
  },
  {
   "cell_type": "code",
   "execution_count": null,
   "metadata": {},
   "outputs": [],
   "source": []
  },
  {
   "cell_type": "markdown",
   "metadata": {},
   "source": [
    "<h3>Preprocessing numericals columns</h3>"
   ]
  },
  {
   "cell_type": "code",
   "execution_count": 58,
   "metadata": {},
   "outputs": [
    {
     "data": {
      "text/html": [
       "<div>\n",
       "<style scoped>\n",
       "    .dataframe tbody tr th:only-of-type {\n",
       "        vertical-align: middle;\n",
       "    }\n",
       "\n",
       "    .dataframe tbody tr th {\n",
       "        vertical-align: top;\n",
       "    }\n",
       "\n",
       "    .dataframe thead th {\n",
       "        text-align: right;\n",
       "    }\n",
       "</style>\n",
       "<table border=\"1\" class=\"dataframe\">\n",
       "  <thead>\n",
       "    <tr style=\"text-align: right;\">\n",
       "      <th></th>\n",
       "      <th>name</th>\n",
       "      <th>year</th>\n",
       "      <th>selling_price</th>\n",
       "      <th>km_driven</th>\n",
       "      <th>fuel</th>\n",
       "      <th>seller_type</th>\n",
       "      <th>transmission</th>\n",
       "      <th>owner</th>\n",
       "      <th>mileage</th>\n",
       "      <th>engine</th>\n",
       "      <th>max_power</th>\n",
       "      <th>torque</th>\n",
       "      <th>seats</th>\n",
       "    </tr>\n",
       "  </thead>\n",
       "  <tbody>\n",
       "    <tr>\n",
       "      <th>3688</th>\n",
       "      <td>Maruti</td>\n",
       "      <td>2019</td>\n",
       "      <td>1000000</td>\n",
       "      <td>15000</td>\n",
       "      <td>Petrol</td>\n",
       "      <td>Individual</td>\n",
       "      <td>Manual</td>\n",
       "      <td>First Owner</td>\n",
       "      <td>19.01 kmpl</td>\n",
       "      <td>1462 CC</td>\n",
       "      <td>103.2 bhp</td>\n",
       "      <td>138nm@ 4400rpm</td>\n",
       "      <td>6.0</td>\n",
       "    </tr>\n",
       "    <tr>\n",
       "      <th>7904</th>\n",
       "      <td>Maruti</td>\n",
       "      <td>2013</td>\n",
       "      <td>500000</td>\n",
       "      <td>92000</td>\n",
       "      <td>Diesel</td>\n",
       "      <td>Individual</td>\n",
       "      <td>Manual</td>\n",
       "      <td>Third Owner</td>\n",
       "      <td>20.77 kmpl</td>\n",
       "      <td>1248 CC</td>\n",
       "      <td>88.76 bhp</td>\n",
       "      <td>200Nm@ 1750rpm</td>\n",
       "      <td>7.0</td>\n",
       "    </tr>\n",
       "    <tr>\n",
       "      <th>790</th>\n",
       "      <td>Ford</td>\n",
       "      <td>2019</td>\n",
       "      <td>720000</td>\n",
       "      <td>10000</td>\n",
       "      <td>Petrol</td>\n",
       "      <td>Individual</td>\n",
       "      <td>Manual</td>\n",
       "      <td>First Owner</td>\n",
       "      <td>19.0 kmpl</td>\n",
       "      <td>1194 CC</td>\n",
       "      <td>94.68 bhp</td>\n",
       "      <td>120Nm@ 4250rpm</td>\n",
       "      <td>5.0</td>\n",
       "    </tr>\n",
       "    <tr>\n",
       "      <th>7909</th>\n",
       "      <td>Tata</td>\n",
       "      <td>2018</td>\n",
       "      <td>850000</td>\n",
       "      <td>9500</td>\n",
       "      <td>Diesel</td>\n",
       "      <td>Individual</td>\n",
       "      <td>Manual</td>\n",
       "      <td>First Owner</td>\n",
       "      <td>21.5 kmpl</td>\n",
       "      <td>1497 CC</td>\n",
       "      <td>108.5 bhp</td>\n",
       "      <td>260Nm@ 1500-2750rpm</td>\n",
       "      <td>5.0</td>\n",
       "    </tr>\n",
       "    <tr>\n",
       "      <th>2739</th>\n",
       "      <td>Honda</td>\n",
       "      <td>2015</td>\n",
       "      <td>600000</td>\n",
       "      <td>25000</td>\n",
       "      <td>Diesel</td>\n",
       "      <td>Individual</td>\n",
       "      <td>Manual</td>\n",
       "      <td>First Owner</td>\n",
       "      <td>25.8 kmpl</td>\n",
       "      <td>1498 CC</td>\n",
       "      <td>98.6 bhp</td>\n",
       "      <td>200Nm@ 1750rpm</td>\n",
       "      <td>5.0</td>\n",
       "    </tr>\n",
       "  </tbody>\n",
       "</table>\n",
       "</div>"
      ],
      "text/plain": [
       "        name  year  selling_price  km_driven    fuel seller_type transmission  \\\n",
       "3688  Maruti  2019        1000000      15000  Petrol  Individual       Manual   \n",
       "7904  Maruti  2013         500000      92000  Diesel  Individual       Manual   \n",
       "790     Ford  2019         720000      10000  Petrol  Individual       Manual   \n",
       "7909    Tata  2018         850000       9500  Diesel  Individual       Manual   \n",
       "2739   Honda  2015         600000      25000  Diesel  Individual       Manual   \n",
       "\n",
       "            owner     mileage   engine  max_power               torque  seats  \n",
       "3688  First Owner  19.01 kmpl  1462 CC  103.2 bhp       138nm@ 4400rpm    6.0  \n",
       "7904  Third Owner  20.77 kmpl  1248 CC  88.76 bhp       200Nm@ 1750rpm    7.0  \n",
       "790   First Owner   19.0 kmpl  1194 CC  94.68 bhp       120Nm@ 4250rpm    5.0  \n",
       "7909  First Owner   21.5 kmpl  1497 CC  108.5 bhp  260Nm@ 1500-2750rpm    5.0  \n",
       "2739  First Owner   25.8 kmpl  1498 CC   98.6 bhp       200Nm@ 1750rpm    5.0  "
      ]
     },
     "execution_count": 58,
     "metadata": {},
     "output_type": "execute_result"
    }
   ],
   "source": [
    "df.sample(5)"
   ]
  },
  {
   "cell_type": "markdown",
   "metadata": {},
   "source": [
    "<h5>Preprocessing mileage,engine,max_power and convering them to integers"
   ]
  },
  {
   "cell_type": "code",
   "execution_count": 59,
   "metadata": {},
   "outputs": [],
   "source": [
    "def process_mileage(x):\n",
    "    try:\n",
    "        return x[:-5]\n",
    "    except TypeError:\n",
    "        return x\n",
    "\n",
    "def process_engine(x):\n",
    "    return x[:-3]\n",
    "\n",
    "def process_max_power(x):\n",
    "    return x[:-4]"
   ]
  },
  {
   "cell_type": "code",
   "execution_count": 60,
   "metadata": {},
   "outputs": [],
   "source": [
    "df['engine'] = df['engine'].apply(lambda x : process_engine(x))\n",
    "df['mileage'] = df['mileage'].apply(lambda x : process_mileage(x))\n",
    "df['max_power'] = df['max_power'].apply(lambda x : process_max_power(x))"
   ]
  },
  {
   "cell_type": "code",
   "execution_count": 61,
   "metadata": {},
   "outputs": [],
   "source": [
    "df['seats']  = df['seats'].astype('int32')\n",
    "df['engine']  = df['engine'].astype('int32')\n",
    "df['mileage']  = df['mileage'].astype('float32')\n",
    "df['max_power']  = df['max_power'].astype('float32')"
   ]
  },
  {
   "cell_type": "markdown",
   "metadata": {},
   "source": [
    "<h5>Preprocessing torque column and convering them to integers"
   ]
  },
  {
   "cell_type": "code",
   "execution_count": 62,
   "metadata": {},
   "outputs": [
    {
     "data": {
      "text/html": [
       "<div>\n",
       "<style scoped>\n",
       "    .dataframe tbody tr th:only-of-type {\n",
       "        vertical-align: middle;\n",
       "    }\n",
       "\n",
       "    .dataframe tbody tr th {\n",
       "        vertical-align: top;\n",
       "    }\n",
       "\n",
       "    .dataframe thead th {\n",
       "        text-align: right;\n",
       "    }\n",
       "</style>\n",
       "<table border=\"1\" class=\"dataframe\">\n",
       "  <thead>\n",
       "    <tr style=\"text-align: right;\">\n",
       "      <th></th>\n",
       "      <th>name</th>\n",
       "      <th>year</th>\n",
       "      <th>selling_price</th>\n",
       "      <th>km_driven</th>\n",
       "      <th>fuel</th>\n",
       "      <th>seller_type</th>\n",
       "      <th>transmission</th>\n",
       "      <th>owner</th>\n",
       "      <th>mileage</th>\n",
       "      <th>engine</th>\n",
       "      <th>max_power</th>\n",
       "      <th>torque</th>\n",
       "      <th>seats</th>\n",
       "    </tr>\n",
       "  </thead>\n",
       "  <tbody>\n",
       "    <tr>\n",
       "      <th>3294</th>\n",
       "      <td>Ford</td>\n",
       "      <td>2010</td>\n",
       "      <td>185000</td>\n",
       "      <td>124316</td>\n",
       "      <td>Diesel</td>\n",
       "      <td>Dealer</td>\n",
       "      <td>Manual</td>\n",
       "      <td>Second Owner</td>\n",
       "      <td>20.00</td>\n",
       "      <td>1399</td>\n",
       "      <td>68.000000</td>\n",
       "      <td>160Nm@ 2000rpm</td>\n",
       "      <td>5</td>\n",
       "    </tr>\n",
       "    <tr>\n",
       "      <th>7578</th>\n",
       "      <td>Maruti</td>\n",
       "      <td>2018</td>\n",
       "      <td>730000</td>\n",
       "      <td>60000</td>\n",
       "      <td>Diesel</td>\n",
       "      <td>Individual</td>\n",
       "      <td>Automatic</td>\n",
       "      <td>First Owner</td>\n",
       "      <td>28.40</td>\n",
       "      <td>1248</td>\n",
       "      <td>74.019997</td>\n",
       "      <td>190Nm@ 2000rpm</td>\n",
       "      <td>5</td>\n",
       "    </tr>\n",
       "    <tr>\n",
       "      <th>3764</th>\n",
       "      <td>Tata</td>\n",
       "      <td>2017</td>\n",
       "      <td>440000</td>\n",
       "      <td>57000</td>\n",
       "      <td>Petrol</td>\n",
       "      <td>Dealer</td>\n",
       "      <td>Manual</td>\n",
       "      <td>First Owner</td>\n",
       "      <td>23.84</td>\n",
       "      <td>1199</td>\n",
       "      <td>84.480003</td>\n",
       "      <td>113Nm@ 3300rpm</td>\n",
       "      <td>5</td>\n",
       "    </tr>\n",
       "  </tbody>\n",
       "</table>\n",
       "</div>"
      ],
      "text/plain": [
       "        name  year  selling_price  km_driven    fuel seller_type transmission  \\\n",
       "3294    Ford  2010         185000     124316  Diesel      Dealer       Manual   \n",
       "7578  Maruti  2018         730000      60000  Diesel  Individual    Automatic   \n",
       "3764    Tata  2017         440000      57000  Petrol      Dealer       Manual   \n",
       "\n",
       "             owner  mileage  engine  max_power          torque  seats  \n",
       "3294  Second Owner    20.00    1399  68.000000  160Nm@ 2000rpm      5  \n",
       "7578   First Owner    28.40    1248  74.019997  190Nm@ 2000rpm      5  \n",
       "3764   First Owner    23.84    1199  84.480003  113Nm@ 3300rpm      5  "
      ]
     },
     "execution_count": 62,
     "metadata": {},
     "output_type": "execute_result"
    }
   ],
   "source": [
    "df.sample(3)"
   ]
  },
  {
   "cell_type": "code",
   "execution_count": 63,
   "metadata": {},
   "outputs": [
    {
     "data": {
      "text/plain": [
       "'200 1750 3000'"
      ]
     },
     "execution_count": 63,
     "metadata": {},
     "output_type": "execute_result"
    }
   ],
   "source": [
    "l = re.findall(r\"\\d*\\.\\d+|\\d+\", \"200Nm@ 1750-3000rpm\")\n",
    "' '.join(l)"
   ]
  },
  {
   "cell_type": "code",
   "execution_count": 64,
   "metadata": {},
   "outputs": [],
   "source": [
    "def preprocess_torque(s):\n",
    "    l = re.findall(r\"\\d*\\.\\d+|\\d+\", s)\n",
    "    return ' '.join(l)"
   ]
  },
  {
   "cell_type": "code",
   "execution_count": 65,
   "metadata": {},
   "outputs": [],
   "source": [
    "df['torque'] = df['torque'].apply(lambda x : preprocess_torque(x))"
   ]
  },
  {
   "cell_type": "code",
   "execution_count": 66,
   "metadata": {},
   "outputs": [],
   "source": [
    "df['torque_NM'] = df[\"torque\"].str.split(\" \").str[0]\n",
    "df['torque_rpm'] = df[\"torque\"].str.split(\" \").str[1]\n",
    "\n",
    "df['torque_NM']  = df['torque_NM'].astype('float32')\n",
    "df['torque_rpm']  = df['torque_rpm'].astype('float32')\n",
    "\n",
    "df.drop(columns=['torque'],inplace=True)"
   ]
  },
  {
   "cell_type": "code",
   "execution_count": 67,
   "metadata": {},
   "outputs": [
    {
     "data": {
      "text/html": [
       "<div>\n",
       "<style scoped>\n",
       "    .dataframe tbody tr th:only-of-type {\n",
       "        vertical-align: middle;\n",
       "    }\n",
       "\n",
       "    .dataframe tbody tr th {\n",
       "        vertical-align: top;\n",
       "    }\n",
       "\n",
       "    .dataframe thead th {\n",
       "        text-align: right;\n",
       "    }\n",
       "</style>\n",
       "<table border=\"1\" class=\"dataframe\">\n",
       "  <thead>\n",
       "    <tr style=\"text-align: right;\">\n",
       "      <th></th>\n",
       "      <th>name</th>\n",
       "      <th>year</th>\n",
       "      <th>selling_price</th>\n",
       "      <th>km_driven</th>\n",
       "      <th>fuel</th>\n",
       "      <th>seller_type</th>\n",
       "      <th>transmission</th>\n",
       "      <th>owner</th>\n",
       "      <th>mileage</th>\n",
       "      <th>engine</th>\n",
       "      <th>max_power</th>\n",
       "      <th>seats</th>\n",
       "      <th>torque_NM</th>\n",
       "      <th>torque_rpm</th>\n",
       "    </tr>\n",
       "  </thead>\n",
       "  <tbody>\n",
       "    <tr>\n",
       "      <th>5105</th>\n",
       "      <td>Fiat</td>\n",
       "      <td>2011</td>\n",
       "      <td>300000</td>\n",
       "      <td>60000</td>\n",
       "      <td>Diesel</td>\n",
       "      <td>Individual</td>\n",
       "      <td>Manual</td>\n",
       "      <td>First Owner</td>\n",
       "      <td>20.299999</td>\n",
       "      <td>1248</td>\n",
       "      <td>75.000000</td>\n",
       "      <td>5</td>\n",
       "      <td>197.0</td>\n",
       "      <td>1750.0</td>\n",
       "    </tr>\n",
       "    <tr>\n",
       "      <th>2422</th>\n",
       "      <td>Tata</td>\n",
       "      <td>2015</td>\n",
       "      <td>130000</td>\n",
       "      <td>60000</td>\n",
       "      <td>Petrol</td>\n",
       "      <td>Individual</td>\n",
       "      <td>Manual</td>\n",
       "      <td>First Owner</td>\n",
       "      <td>25.400000</td>\n",
       "      <td>624</td>\n",
       "      <td>37.480000</td>\n",
       "      <td>4</td>\n",
       "      <td>51.0</td>\n",
       "      <td>4000.0</td>\n",
       "    </tr>\n",
       "    <tr>\n",
       "      <th>1908</th>\n",
       "      <td>Honda</td>\n",
       "      <td>2009</td>\n",
       "      <td>280000</td>\n",
       "      <td>40000</td>\n",
       "      <td>Petrol</td>\n",
       "      <td>Individual</td>\n",
       "      <td>Automatic</td>\n",
       "      <td>Third Owner</td>\n",
       "      <td>12.900000</td>\n",
       "      <td>1799</td>\n",
       "      <td>130.000000</td>\n",
       "      <td>5</td>\n",
       "      <td>172.0</td>\n",
       "      <td>4300.0</td>\n",
       "    </tr>\n",
       "    <tr>\n",
       "      <th>2281</th>\n",
       "      <td>Mahindra</td>\n",
       "      <td>2011</td>\n",
       "      <td>280000</td>\n",
       "      <td>120000</td>\n",
       "      <td>Diesel</td>\n",
       "      <td>Individual</td>\n",
       "      <td>Manual</td>\n",
       "      <td>First Owner</td>\n",
       "      <td>13.600000</td>\n",
       "      <td>2523</td>\n",
       "      <td>63.000000</td>\n",
       "      <td>7</td>\n",
       "      <td>180.0</td>\n",
       "      <td>1440.0</td>\n",
       "    </tr>\n",
       "    <tr>\n",
       "      <th>5343</th>\n",
       "      <td>Maruti</td>\n",
       "      <td>2011</td>\n",
       "      <td>225000</td>\n",
       "      <td>30000</td>\n",
       "      <td>Petrol</td>\n",
       "      <td>Individual</td>\n",
       "      <td>Manual</td>\n",
       "      <td>First Owner</td>\n",
       "      <td>20.920000</td>\n",
       "      <td>998</td>\n",
       "      <td>67.099998</td>\n",
       "      <td>5</td>\n",
       "      <td>90.0</td>\n",
       "      <td>3500.0</td>\n",
       "    </tr>\n",
       "  </tbody>\n",
       "</table>\n",
       "</div>"
      ],
      "text/plain": [
       "          name  year  selling_price  km_driven    fuel seller_type  \\\n",
       "5105      Fiat  2011         300000      60000  Diesel  Individual   \n",
       "2422      Tata  2015         130000      60000  Petrol  Individual   \n",
       "1908     Honda  2009         280000      40000  Petrol  Individual   \n",
       "2281  Mahindra  2011         280000     120000  Diesel  Individual   \n",
       "5343    Maruti  2011         225000      30000  Petrol  Individual   \n",
       "\n",
       "     transmission        owner    mileage  engine   max_power  seats  \\\n",
       "5105       Manual  First Owner  20.299999    1248   75.000000      5   \n",
       "2422       Manual  First Owner  25.400000     624   37.480000      4   \n",
       "1908    Automatic  Third Owner  12.900000    1799  130.000000      5   \n",
       "2281       Manual  First Owner  13.600000    2523   63.000000      7   \n",
       "5343       Manual  First Owner  20.920000     998   67.099998      5   \n",
       "\n",
       "      torque_NM  torque_rpm  \n",
       "5105      197.0      1750.0  \n",
       "2422       51.0      4000.0  \n",
       "1908      172.0      4300.0  \n",
       "2281      180.0      1440.0  \n",
       "5343       90.0      3500.0  "
      ]
     },
     "execution_count": 67,
     "metadata": {},
     "output_type": "execute_result"
    }
   ],
   "source": [
    "df.sample(5)"
   ]
  },
  {
   "cell_type": "markdown",
   "metadata": {},
   "source": [
    "<h5>preprocessing year column"
   ]
  },
  {
   "cell_type": "code",
   "execution_count": 68,
   "metadata": {},
   "outputs": [],
   "source": [
    "df['year'] = abs(df.year - df.year.max())+1\n",
    "df['year'] /= df.year.max()"
   ]
  },
  {
   "cell_type": "code",
   "execution_count": 69,
   "metadata": {},
   "outputs": [
    {
     "data": {
      "text/html": [
       "<div>\n",
       "<style scoped>\n",
       "    .dataframe tbody tr th:only-of-type {\n",
       "        vertical-align: middle;\n",
       "    }\n",
       "\n",
       "    .dataframe tbody tr th {\n",
       "        vertical-align: top;\n",
       "    }\n",
       "\n",
       "    .dataframe thead th {\n",
       "        text-align: right;\n",
       "    }\n",
       "</style>\n",
       "<table border=\"1\" class=\"dataframe\">\n",
       "  <thead>\n",
       "    <tr style=\"text-align: right;\">\n",
       "      <th></th>\n",
       "      <th>name</th>\n",
       "      <th>year</th>\n",
       "      <th>selling_price</th>\n",
       "      <th>km_driven</th>\n",
       "      <th>fuel</th>\n",
       "      <th>seller_type</th>\n",
       "      <th>transmission</th>\n",
       "      <th>owner</th>\n",
       "      <th>mileage</th>\n",
       "      <th>engine</th>\n",
       "      <th>max_power</th>\n",
       "      <th>seats</th>\n",
       "      <th>torque_NM</th>\n",
       "      <th>torque_rpm</th>\n",
       "    </tr>\n",
       "  </thead>\n",
       "  <tbody>\n",
       "    <tr>\n",
       "      <th>3453</th>\n",
       "      <td>Nissan</td>\n",
       "      <td>0.333333</td>\n",
       "      <td>290000</td>\n",
       "      <td>112072</td>\n",
       "      <td>Diesel</td>\n",
       "      <td>Individual</td>\n",
       "      <td>Manual</td>\n",
       "      <td>First Owner</td>\n",
       "      <td>21.639999</td>\n",
       "      <td>1461</td>\n",
       "      <td>84.800003</td>\n",
       "      <td>5</td>\n",
       "      <td>200.000000</td>\n",
       "      <td>2000.0</td>\n",
       "    </tr>\n",
       "    <tr>\n",
       "      <th>6822</th>\n",
       "      <td>Volkswagen</td>\n",
       "      <td>0.222222</td>\n",
       "      <td>620000</td>\n",
       "      <td>33000</td>\n",
       "      <td>Diesel</td>\n",
       "      <td>Individual</td>\n",
       "      <td>Manual</td>\n",
       "      <td>First Owner</td>\n",
       "      <td>20.139999</td>\n",
       "      <td>1498</td>\n",
       "      <td>88.800003</td>\n",
       "      <td>5</td>\n",
       "      <td>230.000000</td>\n",
       "      <td>1500.0</td>\n",
       "    </tr>\n",
       "    <tr>\n",
       "      <th>2754</th>\n",
       "      <td>Hyundai</td>\n",
       "      <td>0.407407</td>\n",
       "      <td>200000</td>\n",
       "      <td>90000</td>\n",
       "      <td>Petrol</td>\n",
       "      <td>Individual</td>\n",
       "      <td>Manual</td>\n",
       "      <td>First Owner</td>\n",
       "      <td>17.920000</td>\n",
       "      <td>1086</td>\n",
       "      <td>62.099998</td>\n",
       "      <td>5</td>\n",
       "      <td>96.099998</td>\n",
       "      <td>3000.0</td>\n",
       "    </tr>\n",
       "    <tr>\n",
       "      <th>240</th>\n",
       "      <td>Maruti</td>\n",
       "      <td>0.148148</td>\n",
       "      <td>409999</td>\n",
       "      <td>13500</td>\n",
       "      <td>Petrol</td>\n",
       "      <td>Individual</td>\n",
       "      <td>Manual</td>\n",
       "      <td>First Owner</td>\n",
       "      <td>15.370000</td>\n",
       "      <td>1196</td>\n",
       "      <td>73.000000</td>\n",
       "      <td>5</td>\n",
       "      <td>101.000000</td>\n",
       "      <td>3000.0</td>\n",
       "    </tr>\n",
       "    <tr>\n",
       "      <th>7198</th>\n",
       "      <td>Hyundai</td>\n",
       "      <td>0.333333</td>\n",
       "      <td>330000</td>\n",
       "      <td>90000</td>\n",
       "      <td>Diesel</td>\n",
       "      <td>Individual</td>\n",
       "      <td>Manual</td>\n",
       "      <td>First Owner</td>\n",
       "      <td>23.000000</td>\n",
       "      <td>1396</td>\n",
       "      <td>90.000000</td>\n",
       "      <td>5</td>\n",
       "      <td>22.400000</td>\n",
       "      <td>1750.0</td>\n",
       "    </tr>\n",
       "  </tbody>\n",
       "</table>\n",
       "</div>"
      ],
      "text/plain": [
       "            name      year  selling_price  km_driven    fuel seller_type  \\\n",
       "3453      Nissan  0.333333         290000     112072  Diesel  Individual   \n",
       "6822  Volkswagen  0.222222         620000      33000  Diesel  Individual   \n",
       "2754     Hyundai  0.407407         200000      90000  Petrol  Individual   \n",
       "240       Maruti  0.148148         409999      13500  Petrol  Individual   \n",
       "7198     Hyundai  0.333333         330000      90000  Diesel  Individual   \n",
       "\n",
       "     transmission        owner    mileage  engine  max_power  seats  \\\n",
       "3453       Manual  First Owner  21.639999    1461  84.800003      5   \n",
       "6822       Manual  First Owner  20.139999    1498  88.800003      5   \n",
       "2754       Manual  First Owner  17.920000    1086  62.099998      5   \n",
       "240        Manual  First Owner  15.370000    1196  73.000000      5   \n",
       "7198       Manual  First Owner  23.000000    1396  90.000000      5   \n",
       "\n",
       "       torque_NM  torque_rpm  \n",
       "3453  200.000000      2000.0  \n",
       "6822  230.000000      1500.0  \n",
       "2754   96.099998      3000.0  \n",
       "240   101.000000      3000.0  \n",
       "7198   22.400000      1750.0  "
      ]
     },
     "execution_count": 69,
     "metadata": {},
     "output_type": "execute_result"
    }
   ],
   "source": [
    "df.sample(5)"
   ]
  },
  {
   "cell_type": "markdown",
   "metadata": {},
   "source": [
    "<h3>Analyzing numerical variables"
   ]
  },
  {
   "cell_type": "code",
   "execution_count": 70,
   "metadata": {},
   "outputs": [],
   "source": [
    "df['transmission'] = df['transmission'].map({'Manual':0,'Automatic':1})"
   ]
  },
  {
   "cell_type": "code",
   "execution_count": 71,
   "metadata": {},
   "outputs": [
    {
     "data": {
      "text/plain": [
       "<AxesSubplot:>"
      ]
     },
     "execution_count": 71,
     "metadata": {},
     "output_type": "execute_result"
    },
    {
     "data": {
      "image/png": "[encoded data removed]",
      "text/plain": [
       "<Figure size 720x504 with 2 Axes>"
      ]
     },
     "metadata": {
      "needs_background": "light"
     },
     "output_type": "display_data"
    }
   ],
   "source": [
    "plt.figure(figsize=(10,7))\n",
    "sns.heatmap(df.corr(),annot=True,cmap=\"RdYlGn\")"
   ]
  },
  {
   "cell_type": "code",
   "execution_count": 72,
   "metadata": {},
   "outputs": [
    {
     "data": {
      "text/plain": [
       "selling_price    1.000000\n",
       "max_power        0.692323\n",
       "torque_NM        0.616919\n",
       "transmission     0.465538\n",
       "engine           0.442772\n",
       "seats            0.158531\n",
       "mileage         -0.108655\n",
       "km_driven       -0.161265\n",
       "torque_rpm      -0.164555\n",
       "year            -0.427335\n",
       "Name: selling_price, dtype: float64"
      ]
     },
     "execution_count": 72,
     "metadata": {},
     "output_type": "execute_result"
    }
   ],
   "source": [
    "df.corr()['selling_price'].sort_values(ascending=False)"
   ]
  },
  {
   "cell_type": "code",
   "execution_count": 73,
   "metadata": {},
   "outputs": [],
   "source": [
    "num_columns = df.corr()['selling_price'].sort_values(ascending=False).index.tolist()"
   ]
  },
  {
   "cell_type": "code",
   "execution_count": 74,
   "metadata": {
    "scrolled": true
   },
   "outputs": [
    {
     "data": {
      "image/png": "[encoded data removed]",
      "text/plain": [
       "<Figure size 1080x360 with 1 Axes>"
      ]
     },
     "metadata": {
      "needs_background": "light"
     },
     "output_type": "display_data"
    },
    {
     "data": {
      "image/png": "[encoded data removed]",
      "text/plain": [
       "<Figure size 1080x360 with 1 Axes>"
      ]
     },
     "metadata": {
      "needs_background": "light"
     },
     "output_type": "display_data"
    },
    {
     "data": {
      "image/png": "[encoded data removed]",
      "text/plain": [
       "<Figure size 1080x360 with 1 Axes>"
      ]
     },
     "metadata": {
      "needs_background": "light"
     },
     "output_type": "display_data"
    },
    {
     "data": {
      "image/png": "[encoded data removed]",
      "text/plain": [
       "<Figure size 1080x360 with 1 Axes>"
      ]
     },
     "metadata": {
      "needs_background": "light"
     },
     "output_type": "display_data"
    },
    {
     "data": {
      "image/png": "[encoded data removed]",
      "text/plain": [
       "<Figure size 1080x360 with 1 Axes>"
      ]
     },
     "metadata": {
      "needs_background": "light"
     },
     "output_type": "display_data"
    },
    {
     "data": {
      "image/png": "[encoded data removed]",
      "text/plain": [
       "<Figure size 1080x360 with 1 Axes>"
      ]
     },
     "metadata": {
      "needs_background": "light"
     },
     "output_type": "display_data"
    },
    {
     "data": {
      "image/png": "[encoded data removed]",
      "text/plain": [
       "<Figure size 1080x360 with 1 Axes>"
      ]
     },
     "metadata": {
      "needs_background": "light"
     },
     "output_type": "display_data"
    },
    {
     "data": {
      "image/png": "[encoded data removed]",
      "text/plain": [
       "<Figure size 1080x360 with 1 Axes>"
      ]
     },
     "metadata": {
      "needs_background": "light"
     },
     "output_type": "display_data"
    },
    {
     "data": {
      "image/png": "[encoded data removed]",
      "text/plain": [
       "<Figure size 1080x360 with 1 Axes>"
      ]
     },
     "metadata": {
      "needs_background": "light"
     },
     "output_type": "display_data"
    },
    {
     "data": {
      "image/png": "[encoded data removed]",
      "text/plain": [
       "<Figure size 1080x360 with 1 Axes>"
      ]
     },
     "metadata": {
      "needs_background": "light"
     },
     "output_type": "display_data"
    }
   ],
   "source": [
    "for i in num_columns:\n",
    "    plt.figure(figsize=(15,5))\n",
    "    sns.scatterplot(x=i, y=\"selling_price\", data=df,color='green')\n",
    "    sns.regplot(x=i, y=\"selling_price\", data=df,scatter=False,color='black')\n",
    "    plt.show()"
   ]
  },
  {
   "cell_type": "code",
   "execution_count": 75,
   "metadata": {},
   "outputs": [
    {
     "data": {
      "text/plain": [
       "name             0\n",
       "year             0\n",
       "selling_price    0\n",
       "km_driven        0\n",
       "fuel             0\n",
       "seller_type      0\n",
       "transmission     0\n",
       "owner            0\n",
       "mileage          0\n",
       "engine           0\n",
       "max_power        0\n",
       "seats            0\n",
       "torque_NM        0\n",
       "torque_rpm       4\n",
       "dtype: int64"
      ]
     },
     "execution_count": 75,
     "metadata": {},
     "output_type": "execute_result"
    }
   ],
   "source": [
    "df.isna().sum()"
   ]
  },
  {
   "cell_type": "code",
   "execution_count": 76,
   "metadata": {},
   "outputs": [],
   "source": [
    "df.dropna(inplace=True)"
   ]
  },
  {
   "cell_type": "code",
   "execution_count": 77,
   "metadata": {},
   "outputs": [
    {
     "name": "stdout",
     "output_type": "stream",
     "text": [
      "<class 'pandas.core.frame.DataFrame'>\n",
      "Int64Index: 6713 entries, 0 to 8125\n",
      "Data columns (total 14 columns):\n",
      " #   Column         Non-Null Count  Dtype  \n",
      "---  ------         --------------  -----  \n",
      " 0   name           6713 non-null   object \n",
      " 1   year           6713 non-null   float64\n",
      " 2   selling_price  6713 non-null   int64  \n",
      " 3   km_driven      6713 non-null   int64  \n",
      " 4   fuel           6713 non-null   object \n",
      " 5   seller_type    6713 non-null   object \n",
      " 6   transmission   6713 non-null   int64  \n",
      " 7   owner          6713 non-null   object \n",
      " 8   mileage        6713 non-null   float32\n",
      " 9   engine         6713 non-null   int32  \n",
      " 10  max_power      6713 non-null   float32\n",
      " 11  seats          6713 non-null   int32  \n",
      " 12  torque_NM      6713 non-null   float32\n",
      " 13  torque_rpm     6713 non-null   float32\n",
      "dtypes: float32(4), float64(1), int32(2), int64(3), object(4)\n",
      "memory usage: 629.3+ KB\n"
     ]
    }
   ],
   "source": [
    "df.info()"
   ]
  },
  {
   "cell_type": "code",
   "execution_count": 83,
   "metadata": {},
   "outputs": [],
   "source": [
    "df.to_csv('car_data2.csv',index=False)"
   ]
  },
  {
   "cell_type": "code",
   "execution_count": null,
   "metadata": {},
   "outputs": [],
   "source": []
  }
 ],
 "metadata": {
  "kernelspec": {
   "display_name": "Python 3",
   "language": "python",
   "name": "python3"
  },
  "language_info": {
   "codemirror_mode": {
    "name": "ipython",
    "version": 3
   },
   "file_extension": ".py",
   "mimetype": "text/x-python",
   "name": "python",
   "nbconvert_exporter": "python",
   "pygments_lexer": "ipython3",
   "version": "3.7.7"
  }
 },
 "nbformat": 4,
 "nbformat_minor": 2
}
